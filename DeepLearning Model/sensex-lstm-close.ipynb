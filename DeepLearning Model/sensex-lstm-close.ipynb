{
 "cells": [
  {
   "cell_type": "code",
   "execution_count": 1,
   "id": "d8c8997a",
   "metadata": {
    "_cell_guid": "b1076dfc-b9ad-4769-8c92-a6c4dae69d19",
    "_uuid": "8f2839f25d086af736a60e9eeb907d3b93b6e0e5",
    "execution": {
     "iopub.execute_input": "2022-07-01T09:14:35.208415Z",
     "iopub.status.busy": "2022-07-01T09:14:35.207948Z",
     "iopub.status.idle": "2022-07-01T09:14:35.231519Z",
     "shell.execute_reply": "2022-07-01T09:14:35.230643Z"
    },
    "papermill": {
     "duration": 0.039654,
     "end_time": "2022-07-01T09:14:35.233717",
     "exception": false,
     "start_time": "2022-07-01T09:14:35.194063",
     "status": "completed"
    },
    "tags": []
   },
   "outputs": [
    {
     "name": "stdout",
     "output_type": "stream",
     "text": [
      "/kaggle/input/sensex-730days-hourly-data/Sensex.csv\n",
      "/kaggle/input/sensex-last-30y/Sensex_30Y.csv\n"
     ]
    }
   ],
   "source": [
    "# This Python 3 environment comes with many helpful analytics libraries installed\n",
    "# It is defined by the kaggle/python Docker image: https://github.com/kaggle/docker-python\n",
    "# For example, here's several helpful packages to load\n",
    "\n",
    "import numpy as np # linear algebra\n",
    "import pandas as pd # data processing, CSV file I/O (e.g. pd.read_csv)\n",
    "\n",
    "# Input data files are available in the read-only \"../input/\" directory\n",
    "# For example, running this (by clicking run or pressing Shift+Enter) will list all files under the input directory\n",
    "\n",
    "import os\n",
    "for dirname, _, filenames in os.walk('/kaggle/input'):\n",
    "    for filename in filenames:\n",
    "        print(os.path.join(dirname, filename))\n",
    "\n",
    "# You can write up to 20GB to the current directory (/kaggle/working/) that gets preserved as output when you create a version using \"Save & Run All\" \n",
    "# You can also write temporary files to /kaggle/temp/, but they won't be saved outside of the current session"
   ]
  },
  {
   "cell_type": "code",
   "execution_count": 2,
   "id": "597f9300",
   "metadata": {
    "execution": {
     "iopub.execute_input": "2022-07-01T09:14:35.256863Z",
     "iopub.status.busy": "2022-07-01T09:14:35.256007Z",
     "iopub.status.idle": "2022-07-01T09:14:35.284392Z",
     "shell.execute_reply": "2022-07-01T09:14:35.283430Z"
    },
    "papermill": {
     "duration": 0.041862,
     "end_time": "2022-07-01T09:14:35.286437",
     "exception": false,
     "start_time": "2022-07-01T09:14:35.244575",
     "status": "completed"
    },
    "tags": []
   },
   "outputs": [],
   "source": [
    "df = pd.read_csv('../input/sensex-last-30y/Sensex_30Y.csv')"
   ]
  },
  {
   "cell_type": "code",
   "execution_count": 3,
   "id": "32f886c2",
   "metadata": {
    "execution": {
     "iopub.execute_input": "2022-07-01T09:14:35.310552Z",
     "iopub.status.busy": "2022-07-01T09:14:35.309720Z",
     "iopub.status.idle": "2022-07-01T09:14:35.328778Z",
     "shell.execute_reply": "2022-07-01T09:14:35.327706Z"
    },
    "papermill": {
     "duration": 0.033019,
     "end_time": "2022-07-01T09:14:35.331015",
     "exception": false,
     "start_time": "2022-07-01T09:14:35.297996",
     "status": "completed"
    },
    "tags": []
   },
   "outputs": [
    {
     "data": {
      "text/html": [
       "<div>\n",
       "<style scoped>\n",
       "    .dataframe tbody tr th:only-of-type {\n",
       "        vertical-align: middle;\n",
       "    }\n",
       "\n",
       "    .dataframe tbody tr th {\n",
       "        vertical-align: top;\n",
       "    }\n",
       "\n",
       "    .dataframe thead th {\n",
       "        text-align: right;\n",
       "    }\n",
       "</style>\n",
       "<table border=\"1\" class=\"dataframe\">\n",
       "  <thead>\n",
       "    <tr style=\"text-align: right;\">\n",
       "      <th></th>\n",
       "      <th>Date</th>\n",
       "      <th>Open</th>\n",
       "      <th>High</th>\n",
       "      <th>Low</th>\n",
       "      <th>Close</th>\n",
       "      <th>Adj Close</th>\n",
       "      <th>Volume</th>\n",
       "    </tr>\n",
       "  </thead>\n",
       "  <tbody>\n",
       "    <tr>\n",
       "      <th>0</th>\n",
       "      <td>1997-07-01</td>\n",
       "      <td>4263.109863</td>\n",
       "      <td>4301.770020</td>\n",
       "      <td>4247.660156</td>\n",
       "      <td>4300.859863</td>\n",
       "      <td>4300.859863</td>\n",
       "      <td>0</td>\n",
       "    </tr>\n",
       "    <tr>\n",
       "      <th>1</th>\n",
       "      <td>1997-07-02</td>\n",
       "      <td>4302.959961</td>\n",
       "      <td>4395.310059</td>\n",
       "      <td>4295.399902</td>\n",
       "      <td>4333.899902</td>\n",
       "      <td>4333.899902</td>\n",
       "      <td>0</td>\n",
       "    </tr>\n",
       "    <tr>\n",
       "      <th>2</th>\n",
       "      <td>1997-07-03</td>\n",
       "      <td>4335.790039</td>\n",
       "      <td>4393.290039</td>\n",
       "      <td>4299.970215</td>\n",
       "      <td>4323.459961</td>\n",
       "      <td>4323.459961</td>\n",
       "      <td>0</td>\n",
       "    </tr>\n",
       "    <tr>\n",
       "      <th>3</th>\n",
       "      <td>1997-07-04</td>\n",
       "      <td>4332.700195</td>\n",
       "      <td>4347.589844</td>\n",
       "      <td>4300.580078</td>\n",
       "      <td>4323.819824</td>\n",
       "      <td>4323.819824</td>\n",
       "      <td>0</td>\n",
       "    </tr>\n",
       "    <tr>\n",
       "      <th>4</th>\n",
       "      <td>1997-07-07</td>\n",
       "      <td>4326.810059</td>\n",
       "      <td>4391.009766</td>\n",
       "      <td>4289.490234</td>\n",
       "      <td>4291.450195</td>\n",
       "      <td>4291.450195</td>\n",
       "      <td>0</td>\n",
       "    </tr>\n",
       "  </tbody>\n",
       "</table>\n",
       "</div>"
      ],
      "text/plain": [
       "         Date         Open         High          Low        Close  \\\n",
       "0  1997-07-01  4263.109863  4301.770020  4247.660156  4300.859863   \n",
       "1  1997-07-02  4302.959961  4395.310059  4295.399902  4333.899902   \n",
       "2  1997-07-03  4335.790039  4393.290039  4299.970215  4323.459961   \n",
       "3  1997-07-04  4332.700195  4347.589844  4300.580078  4323.819824   \n",
       "4  1997-07-07  4326.810059  4391.009766  4289.490234  4291.450195   \n",
       "\n",
       "     Adj Close  Volume  \n",
       "0  4300.859863       0  \n",
       "1  4333.899902       0  \n",
       "2  4323.459961       0  \n",
       "3  4323.819824       0  \n",
       "4  4291.450195       0  "
      ]
     },
     "execution_count": 3,
     "metadata": {},
     "output_type": "execute_result"
    }
   ],
   "source": [
    "df.head()"
   ]
  },
  {
   "cell_type": "code",
   "execution_count": 4,
   "id": "2c62cdfc",
   "metadata": {
    "execution": {
     "iopub.execute_input": "2022-07-01T09:14:35.355823Z",
     "iopub.status.busy": "2022-07-01T09:14:35.354891Z",
     "iopub.status.idle": "2022-07-01T09:14:35.361374Z",
     "shell.execute_reply": "2022-07-01T09:14:35.360422Z"
    },
    "papermill": {
     "duration": 0.020923,
     "end_time": "2022-07-01T09:14:35.363317",
     "exception": false,
     "start_time": "2022-07-01T09:14:35.342394",
     "status": "completed"
    },
    "tags": []
   },
   "outputs": [
    {
     "data": {
      "text/plain": [
       "Index(['Date', 'Open', 'High', 'Low', 'Close', 'Adj Close', 'Volume'], dtype='object')"
      ]
     },
     "execution_count": 4,
     "metadata": {},
     "output_type": "execute_result"
    }
   ],
   "source": [
    "df.columns"
   ]
  },
  {
   "cell_type": "code",
   "execution_count": 5,
   "id": "ac1221a7",
   "metadata": {
    "execution": {
     "iopub.execute_input": "2022-07-01T09:14:35.386526Z",
     "iopub.status.busy": "2022-07-01T09:14:35.386271Z",
     "iopub.status.idle": "2022-07-01T09:14:35.392867Z",
     "shell.execute_reply": "2022-07-01T09:14:35.391921Z"
    },
    "papermill": {
     "duration": 0.020058,
     "end_time": "2022-07-01T09:14:35.394774",
     "exception": false,
     "start_time": "2022-07-01T09:14:35.374716",
     "status": "completed"
    },
    "tags": []
   },
   "outputs": [
    {
     "data": {
      "text/plain": [
       "Date          object\n",
       "Open         float64\n",
       "High         float64\n",
       "Low          float64\n",
       "Close        float64\n",
       "Adj Close    float64\n",
       "Volume         int64\n",
       "dtype: object"
      ]
     },
     "execution_count": 5,
     "metadata": {},
     "output_type": "execute_result"
    }
   ],
   "source": [
    "df.dtypes"
   ]
  },
  {
   "cell_type": "code",
   "execution_count": 6,
   "id": "fcc779ec",
   "metadata": {
    "execution": {
     "iopub.execute_input": "2022-07-01T09:14:35.418434Z",
     "iopub.status.busy": "2022-07-01T09:14:35.417623Z",
     "iopub.status.idle": "2022-07-01T09:14:35.428717Z",
     "shell.execute_reply": "2022-07-01T09:14:35.427913Z"
    },
    "papermill": {
     "duration": 0.024882,
     "end_time": "2022-07-01T09:14:35.430601",
     "exception": false,
     "start_time": "2022-07-01T09:14:35.405719",
     "status": "completed"
    },
    "tags": []
   },
   "outputs": [],
   "source": [
    "df['Date']= pd.to_datetime(df['Date'])"
   ]
  },
  {
   "cell_type": "code",
   "execution_count": 7,
   "id": "318b6431",
   "metadata": {
    "execution": {
     "iopub.execute_input": "2022-07-01T09:14:35.453861Z",
     "iopub.status.busy": "2022-07-01T09:14:35.453309Z",
     "iopub.status.idle": "2022-07-01T09:14:35.460408Z",
     "shell.execute_reply": "2022-07-01T09:14:35.459489Z"
    },
    "papermill": {
     "duration": 0.021106,
     "end_time": "2022-07-01T09:14:35.462608",
     "exception": false,
     "start_time": "2022-07-01T09:14:35.441502",
     "status": "completed"
    },
    "tags": []
   },
   "outputs": [
    {
     "data": {
      "text/plain": [
       "Date         datetime64[ns]\n",
       "Open                float64\n",
       "High                float64\n",
       "Low                 float64\n",
       "Close               float64\n",
       "Adj Close           float64\n",
       "Volume                int64\n",
       "dtype: object"
      ]
     },
     "execution_count": 7,
     "metadata": {},
     "output_type": "execute_result"
    }
   ],
   "source": [
    "df.dtypes"
   ]
  },
  {
   "cell_type": "code",
   "execution_count": 8,
   "id": "d3118866",
   "metadata": {
    "execution": {
     "iopub.execute_input": "2022-07-01T09:14:35.487476Z",
     "iopub.status.busy": "2022-07-01T09:14:35.486716Z",
     "iopub.status.idle": "2022-07-01T09:14:35.491210Z",
     "shell.execute_reply": "2022-07-01T09:14:35.490378Z"
    },
    "papermill": {
     "duration": 0.01831,
     "end_time": "2022-07-01T09:14:35.493053",
     "exception": false,
     "start_time": "2022-07-01T09:14:35.474743",
     "status": "completed"
    },
    "tags": []
   },
   "outputs": [],
   "source": [
    "df=df[3078:]"
   ]
  },
  {
   "cell_type": "code",
   "execution_count": 9,
   "id": "e4127e05",
   "metadata": {
    "execution": {
     "iopub.execute_input": "2022-07-01T09:14:35.526853Z",
     "iopub.status.busy": "2022-07-01T09:14:35.526305Z",
     "iopub.status.idle": "2022-07-01T09:14:35.551211Z",
     "shell.execute_reply": "2022-07-01T09:14:35.549971Z"
    },
    "papermill": {
     "duration": 0.04676,
     "end_time": "2022-07-01T09:14:35.553898",
     "exception": false,
     "start_time": "2022-07-01T09:14:35.507138",
     "status": "completed"
    },
    "tags": []
   },
   "outputs": [
    {
     "data": {
      "text/html": [
       "<div>\n",
       "<style scoped>\n",
       "    .dataframe tbody tr th:only-of-type {\n",
       "        vertical-align: middle;\n",
       "    }\n",
       "\n",
       "    .dataframe tbody tr th {\n",
       "        vertical-align: top;\n",
       "    }\n",
       "\n",
       "    .dataframe thead th {\n",
       "        text-align: right;\n",
       "    }\n",
       "</style>\n",
       "<table border=\"1\" class=\"dataframe\">\n",
       "  <thead>\n",
       "    <tr style=\"text-align: right;\">\n",
       "      <th></th>\n",
       "      <th>Date</th>\n",
       "      <th>Open</th>\n",
       "      <th>High</th>\n",
       "      <th>Low</th>\n",
       "      <th>Close</th>\n",
       "      <th>Adj Close</th>\n",
       "      <th>Volume</th>\n",
       "    </tr>\n",
       "  </thead>\n",
       "  <tbody>\n",
       "    <tr>\n",
       "      <th>3078</th>\n",
       "      <td>2009-12-16</td>\n",
       "      <td>16866.949219</td>\n",
       "      <td>16996.119141</td>\n",
       "      <td>16777.939453</td>\n",
       "      <td>16912.769531</td>\n",
       "      <td>16912.769531</td>\n",
       "      <td>19400</td>\n",
       "    </tr>\n",
       "    <tr>\n",
       "      <th>3079</th>\n",
       "      <td>2009-12-17</td>\n",
       "      <td>16912.250000</td>\n",
       "      <td>16979.519531</td>\n",
       "      <td>16826.000000</td>\n",
       "      <td>16894.250000</td>\n",
       "      <td>16894.250000</td>\n",
       "      <td>22000</td>\n",
       "    </tr>\n",
       "    <tr>\n",
       "      <th>3080</th>\n",
       "      <td>2009-12-18</td>\n",
       "      <td>16855.910156</td>\n",
       "      <td>16899.189453</td>\n",
       "      <td>16693.060547</td>\n",
       "      <td>16719.830078</td>\n",
       "      <td>16719.830078</td>\n",
       "      <td>18600</td>\n",
       "    </tr>\n",
       "    <tr>\n",
       "      <th>3081</th>\n",
       "      <td>2009-12-21</td>\n",
       "      <td>16724.839844</td>\n",
       "      <td>16750.990234</td>\n",
       "      <td>16577.779297</td>\n",
       "      <td>16601.199219</td>\n",
       "      <td>16601.199219</td>\n",
       "      <td>17200</td>\n",
       "    </tr>\n",
       "    <tr>\n",
       "      <th>3082</th>\n",
       "      <td>2009-12-22</td>\n",
       "      <td>16633.810547</td>\n",
       "      <td>16738.119141</td>\n",
       "      <td>16633.810547</td>\n",
       "      <td>16692.000000</td>\n",
       "      <td>16692.000000</td>\n",
       "      <td>14400</td>\n",
       "    </tr>\n",
       "  </tbody>\n",
       "</table>\n",
       "</div>"
      ],
      "text/plain": [
       "           Date          Open          High           Low         Close  \\\n",
       "3078 2009-12-16  16866.949219  16996.119141  16777.939453  16912.769531   \n",
       "3079 2009-12-17  16912.250000  16979.519531  16826.000000  16894.250000   \n",
       "3080 2009-12-18  16855.910156  16899.189453  16693.060547  16719.830078   \n",
       "3081 2009-12-21  16724.839844  16750.990234  16577.779297  16601.199219   \n",
       "3082 2009-12-22  16633.810547  16738.119141  16633.810547  16692.000000   \n",
       "\n",
       "         Adj Close  Volume  \n",
       "3078  16912.769531   19400  \n",
       "3079  16894.250000   22000  \n",
       "3080  16719.830078   18600  \n",
       "3081  16601.199219   17200  \n",
       "3082  16692.000000   14400  "
      ]
     },
     "execution_count": 9,
     "metadata": {},
     "output_type": "execute_result"
    }
   ],
   "source": [
    "df.head()"
   ]
  },
  {
   "cell_type": "code",
   "execution_count": 10,
   "id": "2120c754",
   "metadata": {
    "execution": {
     "iopub.execute_input": "2022-07-01T09:14:35.594018Z",
     "iopub.status.busy": "2022-07-01T09:14:35.593747Z",
     "iopub.status.idle": "2022-07-01T09:14:35.602744Z",
     "shell.execute_reply": "2022-07-01T09:14:35.601921Z"
    },
    "papermill": {
     "duration": 0.024679,
     "end_time": "2022-07-01T09:14:35.604791",
     "exception": false,
     "start_time": "2022-07-01T09:14:35.580112",
     "status": "completed"
    },
    "tags": []
   },
   "outputs": [],
   "source": [
    "df2= df.reset_index()['Adj Close']"
   ]
  },
  {
   "cell_type": "code",
   "execution_count": 11,
   "id": "fefe07ad",
   "metadata": {
    "execution": {
     "iopub.execute_input": "2022-07-01T09:14:35.629214Z",
     "iopub.status.busy": "2022-07-01T09:14:35.628970Z",
     "iopub.status.idle": "2022-07-01T09:14:35.634745Z",
     "shell.execute_reply": "2022-07-01T09:14:35.633954Z"
    },
    "papermill": {
     "duration": 0.019866,
     "end_time": "2022-07-01T09:14:35.636590",
     "exception": false,
     "start_time": "2022-07-01T09:14:35.616724",
     "status": "completed"
    },
    "tags": []
   },
   "outputs": [],
   "source": [
    "df1 = df.reset_index()['Adj Close']"
   ]
  },
  {
   "cell_type": "code",
   "execution_count": 12,
   "id": "a5ce0f34",
   "metadata": {
    "execution": {
     "iopub.execute_input": "2022-07-01T09:14:35.661006Z",
     "iopub.status.busy": "2022-07-01T09:14:35.660200Z",
     "iopub.status.idle": "2022-07-01T09:14:35.666433Z",
     "shell.execute_reply": "2022-07-01T09:14:35.665503Z"
    },
    "papermill": {
     "duration": 0.020539,
     "end_time": "2022-07-01T09:14:35.668355",
     "exception": false,
     "start_time": "2022-07-01T09:14:35.647816",
     "status": "completed"
    },
    "tags": []
   },
   "outputs": [
    {
     "data": {
      "text/plain": [
       "(3082,)"
      ]
     },
     "execution_count": 12,
     "metadata": {},
     "output_type": "execute_result"
    }
   ],
   "source": [
    "df1.shape"
   ]
  },
  {
   "cell_type": "code",
   "execution_count": 13,
   "id": "cc664aef",
   "metadata": {
    "execution": {
     "iopub.execute_input": "2022-07-01T09:14:35.692664Z",
     "iopub.status.busy": "2022-07-01T09:14:35.691902Z",
     "iopub.status.idle": "2022-07-01T09:14:35.706183Z",
     "shell.execute_reply": "2022-07-01T09:14:35.705204Z"
    },
    "papermill": {
     "duration": 0.029657,
     "end_time": "2022-07-01T09:14:35.709487",
     "exception": false,
     "start_time": "2022-07-01T09:14:35.679830",
     "status": "completed"
    },
    "tags": []
   },
   "outputs": [
    {
     "data": {
      "text/plain": [
       "0       16912.769531\n",
       "1       16894.250000\n",
       "2       16719.830078\n",
       "3       16601.199219\n",
       "4       16692.000000\n",
       "            ...     \n",
       "3077    53161.281250\n",
       "3078    53177.449219\n",
       "3079    53026.968750\n",
       "3080    53018.941406\n",
       "3081    52524.730469\n",
       "Name: Adj Close, Length: 3082, dtype: float64"
      ]
     },
     "execution_count": 13,
     "metadata": {},
     "output_type": "execute_result"
    }
   ],
   "source": [
    "df1"
   ]
  },
  {
   "cell_type": "code",
   "execution_count": 14,
   "id": "b445175f",
   "metadata": {
    "execution": {
     "iopub.execute_input": "2022-07-01T09:14:35.749808Z",
     "iopub.status.busy": "2022-07-01T09:14:35.749511Z",
     "iopub.status.idle": "2022-07-01T09:14:35.986165Z",
     "shell.execute_reply": "2022-07-01T09:14:35.985035Z"
    },
    "papermill": {
     "duration": 0.262995,
     "end_time": "2022-07-01T09:14:35.991873",
     "exception": false,
     "start_time": "2022-07-01T09:14:35.728878",
     "status": "completed"
    },
    "tags": []
   },
   "outputs": [
    {
     "data": {
      "text/plain": [
       "[<matplotlib.lines.Line2D at 0x7fbf8d100390>]"
      ]
     },
     "execution_count": 14,
     "metadata": {},
     "output_type": "execute_result"
    },
    {
     "data": {
      "image/png": "[encoded data removed]",
      "text/plain": [
       "<Figure size 432x288 with 1 Axes>"
      ]
     },
     "metadata": {
      "needs_background": "light"
     },
     "output_type": "display_data"
    }
   ],
   "source": [
    "import matplotlib.pyplot as plt\n",
    "plt.plot(df1)"
   ]
  },
  {
   "cell_type": "code",
   "execution_count": 15,
   "id": "db706dbb",
   "metadata": {
    "execution": {
     "iopub.execute_input": "2022-07-01T09:14:36.037227Z",
     "iopub.status.busy": "2022-07-01T09:14:36.036947Z",
     "iopub.status.idle": "2022-07-01T09:14:36.041230Z",
     "shell.execute_reply": "2022-07-01T09:14:36.040293Z"
    },
    "papermill": {
     "duration": 0.028612,
     "end_time": "2022-07-01T09:14:36.043635",
     "exception": false,
     "start_time": "2022-07-01T09:14:36.015023",
     "status": "completed"
    },
    "tags": []
   },
   "outputs": [],
   "source": [
    "import numpy as np"
   ]
  },
  {
   "cell_type": "code",
   "execution_count": 16,
   "id": "88a43732",
   "metadata": {
    "execution": {
     "iopub.execute_input": "2022-07-01T09:14:36.072245Z",
     "iopub.status.busy": "2022-07-01T09:14:36.071416Z",
     "iopub.status.idle": "2022-07-01T09:14:36.891884Z",
     "shell.execute_reply": "2022-07-01T09:14:36.890934Z"
    },
    "papermill": {
     "duration": 0.83632,
     "end_time": "2022-07-01T09:14:36.894517",
     "exception": false,
     "start_time": "2022-07-01T09:14:36.058197",
     "status": "completed"
    },
    "tags": []
   },
   "outputs": [],
   "source": [
    "from sklearn.preprocessing import MinMaxScaler\n",
    "scaler = MinMaxScaler(feature_range=(0,1))\n",
    "df1= scaler.fit_transform(np.array(df1).reshape(-1,1))"
   ]
  },
  {
   "cell_type": "code",
   "execution_count": 17,
   "id": "ee65f3d0",
   "metadata": {
    "execution": {
     "iopub.execute_input": "2022-07-01T09:14:36.921054Z",
     "iopub.status.busy": "2022-07-01T09:14:36.920249Z",
     "iopub.status.idle": "2022-07-01T09:14:36.926878Z",
     "shell.execute_reply": "2022-07-01T09:14:36.925923Z"
    },
    "papermill": {
     "duration": 0.021747,
     "end_time": "2022-07-01T09:14:36.928940",
     "exception": false,
     "start_time": "2022-07-01T09:14:36.907193",
     "status": "completed"
    },
    "tags": []
   },
   "outputs": [
    {
     "data": {
      "text/plain": [
       "array([[0.03729707],\n",
       "       [0.03689957],\n",
       "       [0.03315589],\n",
       "       ...,\n",
       "       [0.81243774],\n",
       "       [0.81226545],\n",
       "       [0.8016579 ]])"
      ]
     },
     "execution_count": 17,
     "metadata": {},
     "output_type": "execute_result"
    }
   ],
   "source": [
    "df1"
   ]
  },
  {
   "cell_type": "markdown",
   "id": "22688825",
   "metadata": {
    "papermill": {
     "duration": 0.012172,
     "end_time": "2022-07-01T09:14:36.953211",
     "exception": false,
     "start_time": "2022-07-01T09:14:36.941039",
     "status": "completed"
    },
    "tags": []
   },
   "source": [
    "> Preprocess the data -Train and Test"
   ]
  },
  {
   "cell_type": "markdown",
   "id": "d2e6263b",
   "metadata": {
    "papermill": {
     "duration": 0.011596,
     "end_time": "2022-07-01T09:14:36.977521",
     "exception": false,
     "start_time": "2022-07-01T09:14:36.965925",
     "status": "completed"
    },
    "tags": []
   },
   "source": [
    "**Train and Test Split**"
   ]
  },
  {
   "cell_type": "code",
   "execution_count": 18,
   "id": "ecd3a4e8",
   "metadata": {
    "execution": {
     "iopub.execute_input": "2022-07-01T09:14:37.002305Z",
     "iopub.status.busy": "2022-07-01T09:14:37.002021Z",
     "iopub.status.idle": "2022-07-01T09:14:37.006925Z",
     "shell.execute_reply": "2022-07-01T09:14:37.006029Z"
    },
    "papermill": {
     "duration": 0.019714,
     "end_time": "2022-07-01T09:14:37.009067",
     "exception": false,
     "start_time": "2022-07-01T09:14:36.989353",
     "status": "completed"
    },
    "tags": []
   },
   "outputs": [],
   "source": [
    "training_size= int(len(df1)*0.65)\n",
    "test_size=len(df1)-training_size\n",
    "train_data,test_data=df1[0:training_size,:],df1[training_size:len(df1),:1]"
   ]
  },
  {
   "cell_type": "markdown",
   "id": "3d506306",
   "metadata": {
    "papermill": {
     "duration": 0.011646,
     "end_time": "2022-07-01T09:14:37.032430",
     "exception": false,
     "start_time": "2022-07-01T09:14:37.020784",
     "status": "completed"
    },
    "tags": []
   },
   "source": [
    "> Convert the array to dataset matrix"
   ]
  },
  {
   "cell_type": "code",
   "execution_count": 19,
   "id": "227191a9",
   "metadata": {
    "execution": {
     "iopub.execute_input": "2022-07-01T09:14:37.057431Z",
     "iopub.status.busy": "2022-07-01T09:14:37.056731Z",
     "iopub.status.idle": "2022-07-01T09:14:37.062932Z",
     "shell.execute_reply": "2022-07-01T09:14:37.062016Z"
    },
    "papermill": {
     "duration": 0.020654,
     "end_time": "2022-07-01T09:14:37.064825",
     "exception": false,
     "start_time": "2022-07-01T09:14:37.044171",
     "status": "completed"
    },
    "tags": []
   },
   "outputs": [],
   "source": [
    "import numpy\n",
    "\n",
    "def create_dataset(dataset, time_step=1):\n",
    "    dataX, dataY = [], []\n",
    "    for i in range(len(dataset)-time_step-1):\n",
    "        a = dataset[i:(i+time_step),0]\n",
    "        dataX.append(a)\n",
    "        dataY.append(dataset[i+time_step,0])\n",
    "    return numpy.array(dataX), numpy.array(dataY)"
   ]
  },
  {
   "cell_type": "code",
   "execution_count": 20,
   "id": "f9aecc93",
   "metadata": {
    "execution": {
     "iopub.execute_input": "2022-07-01T09:14:37.089872Z",
     "iopub.status.busy": "2022-07-01T09:14:37.089138Z",
     "iopub.status.idle": "2022-07-01T09:14:37.099858Z",
     "shell.execute_reply": "2022-07-01T09:14:37.099017Z"
    },
    "papermill": {
     "duration": 0.025178,
     "end_time": "2022-07-01T09:14:37.101782",
     "exception": false,
     "start_time": "2022-07-01T09:14:37.076604",
     "status": "completed"
    },
    "tags": []
   },
   "outputs": [],
   "source": [
    "time_step=100\n",
    "X_train,y_train= create_dataset(train_data, time_step)\n",
    "X_test, ytest = create_dataset(test_data, time_step)"
   ]
  },
  {
   "cell_type": "code",
   "execution_count": 21,
   "id": "88a1be5e",
   "metadata": {
    "execution": {
     "iopub.execute_input": "2022-07-01T09:14:37.127487Z",
     "iopub.status.busy": "2022-07-01T09:14:37.126768Z",
     "iopub.status.idle": "2022-07-01T09:14:37.133592Z",
     "shell.execute_reply": "2022-07-01T09:14:37.132082Z"
    },
    "papermill": {
     "duration": 0.021804,
     "end_time": "2022-07-01T09:14:37.135831",
     "exception": false,
     "start_time": "2022-07-01T09:14:37.114027",
     "status": "completed"
    },
    "tags": []
   },
   "outputs": [
    {
     "name": "stdout",
     "output_type": "stream",
     "text": [
      "[[0.03729707 0.03689957 0.03315589 ... 0.04487586 0.03905344 0.03563989]\n",
      " [0.03689957 0.03315589 0.03060965 ... 0.03905344 0.03563989 0.03650271]\n",
      " [0.03315589 0.03060965 0.03255856 ... 0.03563989 0.03650271 0.02647342]\n",
      " ...\n",
      " [0.36452875 0.36512436 0.36631601 ... 0.44622692 0.44497431 0.42694682]\n",
      " [0.36512436 0.36631601 0.36697451 ... 0.44497431 0.42694682 0.42030191]\n",
      " [0.36631601 0.36697451 0.37021874 ... 0.42694682 0.42030191 0.40825613]]\n"
     ]
    }
   ],
   "source": [
    "print(X_train)"
   ]
  },
  {
   "cell_type": "code",
   "execution_count": 22,
   "id": "a8afc85b",
   "metadata": {
    "execution": {
     "iopub.execute_input": "2022-07-01T09:14:37.163987Z",
     "iopub.status.busy": "2022-07-01T09:14:37.163569Z",
     "iopub.status.idle": "2022-07-01T09:14:37.170908Z",
     "shell.execute_reply": "2022-07-01T09:14:37.169626Z"
    },
    "papermill": {
     "duration": 0.023191,
     "end_time": "2022-07-01T09:14:37.172965",
     "exception": false,
     "start_time": "2022-07-01T09:14:37.149774",
     "status": "completed"
    },
    "tags": []
   },
   "outputs": [
    {
     "name": "stdout",
     "output_type": "stream",
     "text": [
      "(1902, 100)\n",
      "(1902,)\n"
     ]
    },
    {
     "data": {
      "text/plain": [
       "(None, None)"
      ]
     },
     "execution_count": 22,
     "metadata": {},
     "output_type": "execute_result"
    }
   ],
   "source": [
    "print(X_train.shape), print(y_train.shape)"
   ]
  },
  {
   "cell_type": "code",
   "execution_count": 23,
   "id": "d330f76a",
   "metadata": {
    "execution": {
     "iopub.execute_input": "2022-07-01T09:14:37.198247Z",
     "iopub.status.busy": "2022-07-01T09:14:37.197649Z",
     "iopub.status.idle": "2022-07-01T09:14:37.204771Z",
     "shell.execute_reply": "2022-07-01T09:14:37.203848Z"
    },
    "papermill": {
     "duration": 0.021539,
     "end_time": "2022-07-01T09:14:37.206553",
     "exception": false,
     "start_time": "2022-07-01T09:14:37.185014",
     "status": "completed"
    },
    "tags": []
   },
   "outputs": [
    {
     "name": "stdout",
     "output_type": "stream",
     "text": [
      "(978, 100)\n",
      "(978,)\n"
     ]
    },
    {
     "data": {
      "text/plain": [
       "(None, None)"
      ]
     },
     "execution_count": 23,
     "metadata": {},
     "output_type": "execute_result"
    }
   ],
   "source": [
    "print(X_test.shape), print(ytest.shape)"
   ]
  },
  {
   "cell_type": "code",
   "execution_count": 24,
   "id": "bac2eeab",
   "metadata": {
    "execution": {
     "iopub.execute_input": "2022-07-01T09:14:37.233191Z",
     "iopub.status.busy": "2022-07-01T09:14:37.232438Z",
     "iopub.status.idle": "2022-07-01T09:14:37.239292Z",
     "shell.execute_reply": "2022-07-01T09:14:37.238331Z"
    },
    "papermill": {
     "duration": 0.022232,
     "end_time": "2022-07-01T09:14:37.241229",
     "exception": false,
     "start_time": "2022-07-01T09:14:37.218997",
     "status": "completed"
    },
    "tags": []
   },
   "outputs": [
    {
     "data": {
      "text/plain": [
       "array([[0.40417419, 0.41049967, 0.40739776, ..., 0.43364028, 0.4393667 ,\n",
       "        0.43784605],\n",
       "       [0.41049967, 0.40739776, 0.41043527, ..., 0.4393667 , 0.43784605,\n",
       "        0.43963415],\n",
       "       [0.40739776, 0.41043527, 0.40428151, ..., 0.43784605, 0.43963415,\n",
       "        0.44557655],\n",
       "       ...,\n",
       "       [0.93769075, 0.95262422, 0.93609063, ..., 0.79609858, 0.80602038,\n",
       "        0.81532057],\n",
       "       [0.95262422, 0.93609063, 0.93301706, ..., 0.80602038, 0.81532057,\n",
       "        0.8156676 ],\n",
       "       [0.93609063, 0.93301706, 0.9110463 , ..., 0.81532057, 0.8156676 ,\n",
       "        0.81243774]])"
      ]
     },
     "execution_count": 24,
     "metadata": {},
     "output_type": "execute_result"
    }
   ],
   "source": [
    "X_test"
   ]
  },
  {
   "cell_type": "markdown",
   "id": "9c3a73e2",
   "metadata": {
    "papermill": {
     "duration": 0.012369,
     "end_time": "2022-07-01T09:14:37.265910",
     "exception": false,
     "start_time": "2022-07-01T09:14:37.253541",
     "status": "completed"
    },
    "tags": []
   },
   "source": [
    "> Reshape input to be samples time steps features"
   ]
  },
  {
   "cell_type": "code",
   "execution_count": 25,
   "id": "f69efe2e",
   "metadata": {
    "execution": {
     "iopub.execute_input": "2022-07-01T09:14:37.291624Z",
     "iopub.status.busy": "2022-07-01T09:14:37.291371Z",
     "iopub.status.idle": "2022-07-01T09:14:37.296229Z",
     "shell.execute_reply": "2022-07-01T09:14:37.295247Z"
    },
    "papermill": {
     "duration": 0.020025,
     "end_time": "2022-07-01T09:14:37.298181",
     "exception": false,
     "start_time": "2022-07-01T09:14:37.278156",
     "status": "completed"
    },
    "tags": []
   },
   "outputs": [],
   "source": [
    "X_train = X_train.reshape(X_train.shape[0], X_train.shape[1], 1)\n",
    "X_test = X_test.reshape(X_test.shape[0],X_test.shape[1], 1)"
   ]
  },
  {
   "cell_type": "code",
   "execution_count": 26,
   "id": "681b7596",
   "metadata": {
    "execution": {
     "iopub.execute_input": "2022-07-01T09:14:37.325038Z",
     "iopub.status.busy": "2022-07-01T09:14:37.324207Z",
     "iopub.status.idle": "2022-07-01T09:14:42.476120Z",
     "shell.execute_reply": "2022-07-01T09:14:42.474993Z"
    },
    "papermill": {
     "duration": 5.167697,
     "end_time": "2022-07-01T09:14:42.478818",
     "exception": false,
     "start_time": "2022-07-01T09:14:37.311121",
     "status": "completed"
    },
    "tags": []
   },
   "outputs": [],
   "source": [
    "from tensorflow.keras.models import Sequential\n",
    "from tensorflow.keras.layers import Dense\n",
    "from tensorflow.keras.layers import LSTM"
   ]
  },
  {
   "cell_type": "code",
   "execution_count": 27,
   "id": "2b95fd9b",
   "metadata": {
    "execution": {
     "iopub.execute_input": "2022-07-01T09:14:42.505958Z",
     "iopub.status.busy": "2022-07-01T09:14:42.505411Z",
     "iopub.status.idle": "2022-07-01T09:14:45.802016Z",
     "shell.execute_reply": "2022-07-01T09:14:45.801161Z"
    },
    "papermill": {
     "duration": 3.312427,
     "end_time": "2022-07-01T09:14:45.804471",
     "exception": false,
     "start_time": "2022-07-01T09:14:42.492044",
     "status": "completed"
    },
    "tags": []
   },
   "outputs": [
    {
     "name": "stderr",
     "output_type": "stream",
     "text": [
      "2022-07-01 09:14:42.597591: I tensorflow/stream_executor/cuda/cuda_gpu_executor.cc:937] successful NUMA node read from SysFS had negative value (-1), but there must be at least one NUMA node, so returning NUMA node zero\n",
      "2022-07-01 09:14:42.718499: I tensorflow/stream_executor/cuda/cuda_gpu_executor.cc:937] successful NUMA node read from SysFS had negative value (-1), but there must be at least one NUMA node, so returning NUMA node zero\n",
      "2022-07-01 09:14:42.719267: I tensorflow/stream_executor/cuda/cuda_gpu_executor.cc:937] successful NUMA node read from SysFS had negative value (-1), but there must be at least one NUMA node, so returning NUMA node zero\n",
      "2022-07-01 09:14:42.721082: I tensorflow/core/platform/cpu_feature_guard.cc:142] This TensorFlow binary is optimized with oneAPI Deep Neural Network Library (oneDNN) to use the following CPU instructions in performance-critical operations:  AVX2 AVX512F FMA\n",
      "To enable them in other operations, rebuild TensorFlow with the appropriate compiler flags.\n",
      "2022-07-01 09:14:42.721439: I tensorflow/stream_executor/cuda/cuda_gpu_executor.cc:937] successful NUMA node read from SysFS had negative value (-1), but there must be at least one NUMA node, so returning NUMA node zero\n",
      "2022-07-01 09:14:42.722385: I tensorflow/stream_executor/cuda/cuda_gpu_executor.cc:937] successful NUMA node read from SysFS had negative value (-1), but there must be at least one NUMA node, so returning NUMA node zero\n",
      "2022-07-01 09:14:42.723264: I tensorflow/stream_executor/cuda/cuda_gpu_executor.cc:937] successful NUMA node read from SysFS had negative value (-1), but there must be at least one NUMA node, so returning NUMA node zero\n",
      "2022-07-01 09:14:44.846493: I tensorflow/stream_executor/cuda/cuda_gpu_executor.cc:937] successful NUMA node read from SysFS had negative value (-1), but there must be at least one NUMA node, so returning NUMA node zero\n",
      "2022-07-01 09:14:44.847348: I tensorflow/stream_executor/cuda/cuda_gpu_executor.cc:937] successful NUMA node read from SysFS had negative value (-1), but there must be at least one NUMA node, so returning NUMA node zero\n",
      "2022-07-01 09:14:44.848101: I tensorflow/stream_executor/cuda/cuda_gpu_executor.cc:937] successful NUMA node read from SysFS had negative value (-1), but there must be at least one NUMA node, so returning NUMA node zero\n",
      "2022-07-01 09:14:44.848836: I tensorflow/core/common_runtime/gpu/gpu_device.cc:1510] Created device /job:localhost/replica:0/task:0/device:GPU:0 with 15403 MB memory:  -> device: 0, name: Tesla P100-PCIE-16GB, pci bus id: 0000:00:04.0, compute capability: 6.0\n"
     ]
    }
   ],
   "source": [
    "model=Sequential()\n",
    "model.add(LSTM(50,return_sequences=True,input_shape=(100,1)))\n",
    "model.add(LSTM(50,return_sequences=True))\n",
    "model.add(LSTM(50))\n",
    "model.add(Dense(1))\n",
    "model.compile(loss='mean_squared_error',optimizer='adam')"
   ]
  },
  {
   "cell_type": "code",
   "execution_count": 28,
   "id": "12c3a331",
   "metadata": {
    "execution": {
     "iopub.execute_input": "2022-07-01T09:14:45.832321Z",
     "iopub.status.busy": "2022-07-01T09:14:45.831610Z",
     "iopub.status.idle": "2022-07-01T09:14:45.839704Z",
     "shell.execute_reply": "2022-07-01T09:14:45.838644Z"
    },
    "papermill": {
     "duration": 0.024354,
     "end_time": "2022-07-01T09:14:45.842140",
     "exception": false,
     "start_time": "2022-07-01T09:14:45.817786",
     "status": "completed"
    },
    "tags": []
   },
   "outputs": [
    {
     "name": "stdout",
     "output_type": "stream",
     "text": [
      "Model: \"sequential\"\n",
      "_________________________________________________________________\n",
      "Layer (type)                 Output Shape              Param #   \n",
      "=================================================================\n",
      "lstm (LSTM)                  (None, 100, 50)           10400     \n",
      "_________________________________________________________________\n",
      "lstm_1 (LSTM)                (None, 100, 50)           20200     \n",
      "_________________________________________________________________\n",
      "lstm_2 (LSTM)                (None, 50)                20200     \n",
      "_________________________________________________________________\n",
      "dense (Dense)                (None, 1)                 51        \n",
      "=================================================================\n",
      "Total params: 50,851\n",
      "Trainable params: 50,851\n",
      "Non-trainable params: 0\n",
      "_________________________________________________________________\n"
     ]
    }
   ],
   "source": [
    "model.summary()"
   ]
  },
  {
   "cell_type": "code",
   "execution_count": 29,
   "id": "9d191106",
   "metadata": {
    "execution": {
     "iopub.execute_input": "2022-07-01T09:14:45.869591Z",
     "iopub.status.busy": "2022-07-01T09:14:45.868848Z",
     "iopub.status.idle": "2022-07-01T09:15:23.831570Z",
     "shell.execute_reply": "2022-07-01T09:15:23.830682Z"
    },
    "papermill": {
     "duration": 37.978537,
     "end_time": "2022-07-01T09:15:23.833737",
     "exception": false,
     "start_time": "2022-07-01T09:14:45.855200",
     "status": "completed"
    },
    "tags": []
   },
   "outputs": [
    {
     "name": "stdout",
     "output_type": "stream",
     "text": [
      "Epoch 1/100\n"
     ]
    },
    {
     "name": "stderr",
     "output_type": "stream",
     "text": [
      "2022-07-01 09:14:45.917698: I tensorflow/compiler/mlir/mlir_graph_optimization_pass.cc:185] None of the MLIR Optimization Passes are enabled (registered 2)\n",
      "2022-07-01 09:14:50.008653: I tensorflow/stream_executor/cuda/cuda_dnn.cc:369] Loaded cuDNN version 8005\n"
     ]
    },
    {
     "name": "stdout",
     "output_type": "stream",
     "text": [
      "15/15 [==============================] - 7s 96ms/step - loss: 0.0113 - val_loss: 0.0765\n",
      "Epoch 2/100\n",
      "15/15 [==============================] - 0s 21ms/step - loss: 0.0015 - val_loss: 0.0028\n",
      "Epoch 3/100\n",
      "15/15 [==============================] - 0s 20ms/step - loss: 3.9506e-04 - val_loss: 0.0015\n",
      "Epoch 4/100\n",
      "15/15 [==============================] - 0s 20ms/step - loss: 2.3348e-04 - val_loss: 0.0015\n",
      "Epoch 5/100\n",
      "15/15 [==============================] - 0s 20ms/step - loss: 2.1231e-04 - val_loss: 0.0015\n",
      "Epoch 6/100\n",
      "15/15 [==============================] - 0s 21ms/step - loss: 2.0621e-04 - val_loss: 0.0017\n",
      "Epoch 7/100\n",
      "15/15 [==============================] - 0s 20ms/step - loss: 2.0682e-04 - val_loss: 0.0015\n",
      "Epoch 8/100\n",
      "15/15 [==============================] - 0s 21ms/step - loss: 2.0399e-04 - val_loss: 0.0015\n",
      "Epoch 9/100\n",
      "15/15 [==============================] - 0s 20ms/step - loss: 2.0097e-04 - val_loss: 0.0014\n",
      "Epoch 10/100\n",
      "15/15 [==============================] - 0s 21ms/step - loss: 1.9734e-04 - val_loss: 0.0014\n",
      "Epoch 11/100\n",
      "15/15 [==============================] - 0s 20ms/step - loss: 1.9387e-04 - val_loss: 0.0014\n",
      "Epoch 12/100\n",
      "15/15 [==============================] - 0s 21ms/step - loss: 1.9540e-04 - val_loss: 0.0013\n",
      "Epoch 13/100\n",
      "15/15 [==============================] - 0s 20ms/step - loss: 1.8990e-04 - val_loss: 0.0014\n",
      "Epoch 14/100\n",
      "15/15 [==============================] - 0s 21ms/step - loss: 1.8888e-04 - val_loss: 0.0014\n",
      "Epoch 15/100\n",
      "15/15 [==============================] - 0s 20ms/step - loss: 1.8668e-04 - val_loss: 0.0013\n",
      "Epoch 16/100\n",
      "15/15 [==============================] - 0s 20ms/step - loss: 1.8797e-04 - val_loss: 0.0012\n",
      "Epoch 17/100\n",
      "15/15 [==============================] - 0s 20ms/step - loss: 1.8214e-04 - val_loss: 0.0013\n",
      "Epoch 18/100\n",
      "15/15 [==============================] - 0s 21ms/step - loss: 1.8445e-04 - val_loss: 0.0014\n",
      "Epoch 19/100\n",
      "15/15 [==============================] - 0s 20ms/step - loss: 1.9556e-04 - val_loss: 0.0012\n",
      "Epoch 20/100\n",
      "15/15 [==============================] - 0s 21ms/step - loss: 1.9220e-04 - val_loss: 0.0012\n",
      "Epoch 21/100\n",
      "15/15 [==============================] - 0s 20ms/step - loss: 1.7411e-04 - val_loss: 0.0011\n",
      "Epoch 22/100\n",
      "15/15 [==============================] - 0s 20ms/step - loss: 1.7143e-04 - val_loss: 0.0012\n",
      "Epoch 23/100\n",
      "15/15 [==============================] - 0s 20ms/step - loss: 1.6838e-04 - val_loss: 0.0012\n",
      "Epoch 24/100\n",
      "15/15 [==============================] - 0s 26ms/step - loss: 1.6935e-04 - val_loss: 0.0012\n",
      "Epoch 25/100\n",
      "15/15 [==============================] - 0s 22ms/step - loss: 1.6546e-04 - val_loss: 0.0011\n",
      "Epoch 26/100\n",
      "15/15 [==============================] - 0s 21ms/step - loss: 1.6570e-04 - val_loss: 0.0011\n",
      "Epoch 27/100\n",
      "15/15 [==============================] - 0s 20ms/step - loss: 1.6612e-04 - val_loss: 0.0012\n",
      "Epoch 28/100\n",
      "15/15 [==============================] - 0s 21ms/step - loss: 1.6410e-04 - val_loss: 9.8583e-04\n",
      "Epoch 29/100\n",
      "15/15 [==============================] - 0s 20ms/step - loss: 1.5816e-04 - val_loss: 0.0010\n",
      "Epoch 30/100\n",
      "15/15 [==============================] - 0s 21ms/step - loss: 1.6394e-04 - val_loss: 0.0011\n",
      "Epoch 31/100\n",
      "15/15 [==============================] - 0s 21ms/step - loss: 1.5836e-04 - val_loss: 0.0011\n",
      "Epoch 32/100\n",
      "15/15 [==============================] - 0s 21ms/step - loss: 1.5323e-04 - val_loss: 0.0011\n",
      "Epoch 33/100\n",
      "15/15 [==============================] - 0s 20ms/step - loss: 1.5245e-04 - val_loss: 0.0012\n",
      "Epoch 34/100\n",
      "15/15 [==============================] - 0s 21ms/step - loss: 1.5675e-04 - val_loss: 0.0010\n",
      "Epoch 35/100\n",
      "15/15 [==============================] - 0s 20ms/step - loss: 1.5468e-04 - val_loss: 8.8964e-04\n",
      "Epoch 36/100\n",
      "15/15 [==============================] - 0s 21ms/step - loss: 1.4860e-04 - val_loss: 9.3154e-04\n",
      "Epoch 37/100\n",
      "15/15 [==============================] - 0s 20ms/step - loss: 1.5277e-04 - val_loss: 0.0024\n",
      "Epoch 38/100\n",
      "15/15 [==============================] - 0s 21ms/step - loss: 1.7066e-04 - val_loss: 9.5616e-04\n",
      "Epoch 39/100\n",
      "15/15 [==============================] - 0s 20ms/step - loss: 1.4514e-04 - val_loss: 9.4058e-04\n",
      "Epoch 40/100\n",
      "15/15 [==============================] - 0s 20ms/step - loss: 1.4244e-04 - val_loss: 9.6296e-04\n",
      "Epoch 41/100\n",
      "15/15 [==============================] - 0s 20ms/step - loss: 1.4148e-04 - val_loss: 8.0395e-04\n",
      "Epoch 42/100\n",
      "15/15 [==============================] - 0s 20ms/step - loss: 1.3961e-04 - val_loss: 0.0011\n",
      "Epoch 43/100\n",
      "15/15 [==============================] - 0s 21ms/step - loss: 1.3547e-04 - val_loss: 8.2385e-04\n",
      "Epoch 44/100\n",
      "15/15 [==============================] - 0s 20ms/step - loss: 1.3242e-04 - val_loss: 7.4199e-04\n",
      "Epoch 45/100\n",
      "15/15 [==============================] - 0s 20ms/step - loss: 1.3596e-04 - val_loss: 7.9904e-04\n",
      "Epoch 46/100\n",
      "15/15 [==============================] - 0s 20ms/step - loss: 1.3361e-04 - val_loss: 8.0759e-04\n",
      "Epoch 47/100\n",
      "15/15 [==============================] - 0s 20ms/step - loss: 1.4074e-04 - val_loss: 7.4161e-04\n",
      "Epoch 48/100\n",
      "15/15 [==============================] - 0s 20ms/step - loss: 1.3049e-04 - val_loss: 8.0187e-04\n",
      "Epoch 49/100\n",
      "15/15 [==============================] - 0s 20ms/step - loss: 1.2709e-04 - val_loss: 9.7405e-04\n",
      "Epoch 50/100\n",
      "15/15 [==============================] - 0s 20ms/step - loss: 1.3296e-04 - val_loss: 6.9539e-04\n",
      "Epoch 51/100\n",
      "15/15 [==============================] - 0s 20ms/step - loss: 1.2787e-04 - val_loss: 9.3683e-04\n",
      "Epoch 52/100\n",
      "15/15 [==============================] - 0s 20ms/step - loss: 1.2326e-04 - val_loss: 7.1019e-04\n",
      "Epoch 53/100\n",
      "15/15 [==============================] - 0s 20ms/step - loss: 1.2225e-04 - val_loss: 9.5643e-04\n",
      "Epoch 54/100\n",
      "15/15 [==============================] - 0s 21ms/step - loss: 1.2243e-04 - val_loss: 6.6090e-04\n",
      "Epoch 55/100\n",
      "15/15 [==============================] - 0s 20ms/step - loss: 1.1868e-04 - val_loss: 6.7571e-04\n",
      "Epoch 56/100\n",
      "15/15 [==============================] - 0s 21ms/step - loss: 1.1857e-04 - val_loss: 6.4835e-04\n",
      "Epoch 57/100\n",
      "15/15 [==============================] - 0s 20ms/step - loss: 1.2026e-04 - val_loss: 7.6878e-04\n",
      "Epoch 58/100\n",
      "15/15 [==============================] - 0s 21ms/step - loss: 1.2515e-04 - val_loss: 6.3289e-04\n",
      "Epoch 59/100\n",
      "15/15 [==============================] - 0s 28ms/step - loss: 1.2267e-04 - val_loss: 7.7875e-04\n",
      "Epoch 60/100\n",
      "15/15 [==============================] - 1s 42ms/step - loss: 1.0853e-04 - val_loss: 8.8965e-04\n",
      "Epoch 61/100\n",
      "15/15 [==============================] - 1s 35ms/step - loss: 1.1465e-04 - val_loss: 0.0012\n",
      "Epoch 62/100\n",
      "15/15 [==============================] - 0s 21ms/step - loss: 1.1410e-04 - val_loss: 6.7015e-04\n",
      "Epoch 63/100\n",
      "15/15 [==============================] - 0s 20ms/step - loss: 1.0764e-04 - val_loss: 8.3731e-04\n",
      "Epoch 64/100\n",
      "15/15 [==============================] - 0s 20ms/step - loss: 1.0439e-04 - val_loss: 8.0414e-04\n",
      "Epoch 65/100\n",
      "15/15 [==============================] - 0s 20ms/step - loss: 1.0704e-04 - val_loss: 5.8939e-04\n",
      "Epoch 66/100\n",
      "15/15 [==============================] - 0s 20ms/step - loss: 1.0720e-04 - val_loss: 7.4680e-04\n",
      "Epoch 67/100\n",
      "15/15 [==============================] - 0s 20ms/step - loss: 1.1194e-04 - val_loss: 6.1401e-04\n",
      "Epoch 68/100\n",
      "15/15 [==============================] - 0s 21ms/step - loss: 1.0615e-04 - val_loss: 9.3083e-04\n",
      "Epoch 69/100\n",
      "15/15 [==============================] - 0s 20ms/step - loss: 1.0294e-04 - val_loss: 6.4784e-04\n",
      "Epoch 70/100\n",
      "15/15 [==============================] - 0s 21ms/step - loss: 1.0234e-04 - val_loss: 6.2428e-04\n",
      "Epoch 71/100\n",
      "15/15 [==============================] - 0s 20ms/step - loss: 1.0035e-04 - val_loss: 5.6057e-04\n",
      "Epoch 72/100\n",
      "15/15 [==============================] - 0s 22ms/step - loss: 1.0376e-04 - val_loss: 0.0011\n",
      "Epoch 73/100\n",
      "15/15 [==============================] - 0s 20ms/step - loss: 1.1108e-04 - val_loss: 5.3537e-04\n",
      "Epoch 74/100\n",
      "15/15 [==============================] - 0s 21ms/step - loss: 1.0300e-04 - val_loss: 5.2998e-04\n",
      "Epoch 75/100\n",
      "15/15 [==============================] - 0s 21ms/step - loss: 1.0281e-04 - val_loss: 5.4373e-04\n",
      "Epoch 76/100\n",
      "15/15 [==============================] - 0s 21ms/step - loss: 1.0048e-04 - val_loss: 5.3259e-04\n",
      "Epoch 77/100\n",
      "15/15 [==============================] - 0s 20ms/step - loss: 1.0050e-04 - val_loss: 7.2970e-04\n",
      "Epoch 78/100\n",
      "15/15 [==============================] - 0s 21ms/step - loss: 1.0112e-04 - val_loss: 9.8632e-04\n",
      "Epoch 79/100\n",
      "15/15 [==============================] - 0s 21ms/step - loss: 1.0054e-04 - val_loss: 5.0165e-04\n",
      "Epoch 80/100\n",
      "15/15 [==============================] - 0s 21ms/step - loss: 9.4915e-05 - val_loss: 7.6322e-04\n",
      "Epoch 81/100\n",
      "15/15 [==============================] - 0s 20ms/step - loss: 9.8270e-05 - val_loss: 0.0010\n",
      "Epoch 82/100\n",
      "15/15 [==============================] - 0s 20ms/step - loss: 9.5413e-05 - val_loss: 0.0012\n",
      "Epoch 83/100\n",
      "15/15 [==============================] - 0s 20ms/step - loss: 9.9087e-05 - val_loss: 5.0215e-04\n",
      "Epoch 84/100\n",
      "15/15 [==============================] - 0s 21ms/step - loss: 9.3037e-05 - val_loss: 5.7341e-04\n",
      "Epoch 85/100\n",
      "15/15 [==============================] - 0s 20ms/step - loss: 1.0796e-04 - val_loss: 9.9706e-04\n",
      "Epoch 86/100\n",
      "15/15 [==============================] - 0s 20ms/step - loss: 8.8762e-05 - val_loss: 4.9840e-04\n",
      "Epoch 87/100\n",
      "15/15 [==============================] - 0s 20ms/step - loss: 9.0854e-05 - val_loss: 9.8928e-04\n",
      "Epoch 88/100\n",
      "15/15 [==============================] - 0s 21ms/step - loss: 1.0419e-04 - val_loss: 4.3761e-04\n",
      "Epoch 89/100\n",
      "15/15 [==============================] - 0s 20ms/step - loss: 8.8530e-05 - val_loss: 4.3623e-04\n",
      "Epoch 90/100\n",
      "15/15 [==============================] - 0s 20ms/step - loss: 8.8042e-05 - val_loss: 7.0541e-04\n",
      "Epoch 91/100\n",
      "15/15 [==============================] - 0s 20ms/step - loss: 9.3815e-05 - val_loss: 6.1702e-04\n",
      "Epoch 92/100\n",
      "15/15 [==============================] - 0s 20ms/step - loss: 8.7196e-05 - val_loss: 5.1967e-04\n",
      "Epoch 93/100\n",
      "15/15 [==============================] - 0s 25ms/step - loss: 8.8945e-05 - val_loss: 4.2066e-04\n",
      "Epoch 94/100\n",
      "15/15 [==============================] - 0s 23ms/step - loss: 8.9515e-05 - val_loss: 4.4811e-04\n",
      "Epoch 95/100\n",
      "15/15 [==============================] - 0s 21ms/step - loss: 8.3360e-05 - val_loss: 4.6188e-04\n",
      "Epoch 96/100\n",
      "15/15 [==============================] - 0s 20ms/step - loss: 8.7342e-05 - val_loss: 4.0652e-04\n",
      "Epoch 97/100\n",
      "15/15 [==============================] - 0s 20ms/step - loss: 8.8848e-05 - val_loss: 4.4176e-04\n",
      "Epoch 98/100\n",
      "15/15 [==============================] - 0s 21ms/step - loss: 8.0638e-05 - val_loss: 7.4415e-04\n",
      "Epoch 99/100\n",
      "15/15 [==============================] - 0s 20ms/step - loss: 8.9826e-05 - val_loss: 4.2395e-04\n",
      "Epoch 100/100\n",
      "15/15 [==============================] - 0s 20ms/step - loss: 8.9021e-05 - val_loss: 3.7648e-04\n"
     ]
    },
    {
     "data": {
      "text/plain": [
       "<keras.callbacks.History at 0x7fbf2ebf6b90>"
      ]
     },
     "execution_count": 29,
     "metadata": {},
     "output_type": "execute_result"
    }
   ],
   "source": [
    "model.fit(X_train,y_train,validation_data=(X_test,ytest),epochs=100,batch_size=128,verbose=1)"
   ]
  },
  {
   "cell_type": "code",
   "execution_count": 30,
   "id": "3fa97e4e",
   "metadata": {
    "execution": {
     "iopub.execute_input": "2022-07-01T09:15:23.921826Z",
     "iopub.status.busy": "2022-07-01T09:15:23.921515Z",
     "iopub.status.idle": "2022-07-01T09:15:25.153773Z",
     "shell.execute_reply": "2022-07-01T09:15:25.152577Z"
    },
    "papermill": {
     "duration": 1.279141,
     "end_time": "2022-07-01T09:15:25.156288",
     "exception": false,
     "start_time": "2022-07-01T09:15:23.877147",
     "status": "completed"
    },
    "tags": []
   },
   "outputs": [],
   "source": [
    "train_predict= model.predict(X_train)\n",
    "test_predict=model.predict(X_test)"
   ]
  },
  {
   "cell_type": "code",
   "execution_count": 31,
   "id": "7babf9ed",
   "metadata": {
    "execution": {
     "iopub.execute_input": "2022-07-01T09:15:25.242762Z",
     "iopub.status.busy": "2022-07-01T09:15:25.242408Z",
     "iopub.status.idle": "2022-07-01T09:15:25.248183Z",
     "shell.execute_reply": "2022-07-01T09:15:25.247219Z"
    },
    "papermill": {
     "duration": 0.051366,
     "end_time": "2022-07-01T09:15:25.250305",
     "exception": false,
     "start_time": "2022-07-01T09:15:25.198939",
     "status": "completed"
    },
    "tags": []
   },
   "outputs": [],
   "source": [
    "train_predict = scaler.inverse_transform(train_predict)\n",
    "test_predict = scaler.inverse_transform(test_predict)"
   ]
  },
  {
   "cell_type": "code",
   "execution_count": 32,
   "id": "158336b2",
   "metadata": {
    "execution": {
     "iopub.execute_input": "2022-07-01T09:15:25.339294Z",
     "iopub.status.busy": "2022-07-01T09:15:25.338970Z",
     "iopub.status.idle": "2022-07-01T09:15:25.376853Z",
     "shell.execute_reply": "2022-07-01T09:15:25.375737Z"
    },
    "papermill": {
     "duration": 0.084505,
     "end_time": "2022-07-01T09:15:25.379163",
     "exception": false,
     "start_time": "2022-07-01T09:15:25.294658",
     "status": "completed"
    },
    "tags": []
   },
   "outputs": [
    {
     "data": {
      "text/plain": [
       "23945.679055718414"
      ]
     },
     "execution_count": 32,
     "metadata": {},
     "output_type": "execute_result"
    }
   ],
   "source": [
    "import math\n",
    "from sklearn.metrics import mean_squared_error\n",
    "math.sqrt(mean_squared_error(y_train,train_predict))"
   ]
  },
  {
   "cell_type": "code",
   "execution_count": 33,
   "id": "fb8b430d",
   "metadata": {
    "execution": {
     "iopub.execute_input": "2022-07-01T09:15:25.466241Z",
     "iopub.status.busy": "2022-07-01T09:15:25.465919Z",
     "iopub.status.idle": "2022-07-01T09:15:25.473751Z",
     "shell.execute_reply": "2022-07-01T09:15:25.471877Z"
    },
    "papermill": {
     "duration": 0.054405,
     "end_time": "2022-07-01T09:15:25.476137",
     "exception": false,
     "start_time": "2022-07-01T09:15:25.421732",
     "status": "completed"
    },
    "tags": []
   },
   "outputs": [
    {
     "data": {
      "text/plain": [
       "45118.495026552264"
      ]
     },
     "execution_count": 33,
     "metadata": {},
     "output_type": "execute_result"
    }
   ],
   "source": [
    "math.sqrt(mean_squared_error(ytest,test_predict))"
   ]
  },
  {
   "cell_type": "code",
   "execution_count": 34,
   "id": "87089d70",
   "metadata": {
    "execution": {
     "iopub.execute_input": "2022-07-01T09:15:25.591157Z",
     "iopub.status.busy": "2022-07-01T09:15:25.590494Z",
     "iopub.status.idle": "2022-07-01T09:15:25.767823Z",
     "shell.execute_reply": "2022-07-01T09:15:25.766621Z"
    },
    "papermill": {
     "duration": 0.232959,
     "end_time": "2022-07-01T09:15:25.770242",
     "exception": false,
     "start_time": "2022-07-01T09:15:25.537283",
     "status": "completed"
    },
    "tags": []
   },
   "outputs": [
    {
     "data": {
      "image/png": "[encoded data removed]",
      "text/plain": [
       "<Figure size 432x288 with 1 Axes>"
      ]
     },
     "metadata": {
      "needs_background": "light"
     },
     "output_type": "display_data"
    }
   ],
   "source": [
    "# shift train predictions for plotting \n",
    "look_back=100 \n",
    "trainPredictPlot = numpy.empty_like(df1) \n",
    "trainPredictPlot[:, :] = np. nan \n",
    "trainPredictPlot[look_back:len(train_predict)+look_back, :] = train_predict \n",
    "# shift test predictions for plotting \n",
    "testPredictPlot = numpy.empty_like(df1) \n",
    "testPredictPlot[:, :] = numpy.nan \n",
    "testPredictPlot[len(train_predict)+(look_back*2)+1: len(df1)-1, :] = test_predict \n",
    "# plot baseline and predictions \n",
    "plt.plot(scaler.inverse_transform(df1)) \n",
    "plt.plot(trainPredictPlot)\n",
    "plt.plot(testPredictPlot) \n",
    "plt.show()"
   ]
  },
  {
   "cell_type": "markdown",
   "id": "fe33f05b",
   "metadata": {
    "papermill": {
     "duration": 0.04382,
     "end_time": "2022-07-01T09:15:25.858892",
     "exception": false,
     "start_time": "2022-07-01T09:15:25.815072",
     "status": "completed"
    },
    "tags": []
   },
   "source": [
    "## Forecasting"
   ]
  },
  {
   "cell_type": "code",
   "execution_count": 35,
   "id": "22dc3724",
   "metadata": {
    "execution": {
     "iopub.execute_input": "2022-07-01T09:15:25.948276Z",
     "iopub.status.busy": "2022-07-01T09:15:25.947949Z",
     "iopub.status.idle": "2022-07-01T09:15:25.953695Z",
     "shell.execute_reply": "2022-07-01T09:15:25.952804Z"
    },
    "papermill": {
     "duration": 0.05316,
     "end_time": "2022-07-01T09:15:25.955575",
     "exception": false,
     "start_time": "2022-07-01T09:15:25.902415",
     "status": "completed"
    },
    "tags": []
   },
   "outputs": [
    {
     "data": {
      "text/plain": [
       "1079"
      ]
     },
     "execution_count": 35,
     "metadata": {},
     "output_type": "execute_result"
    }
   ],
   "source": [
    "len(test_data)"
   ]
  },
  {
   "cell_type": "code",
   "execution_count": 36,
   "id": "a862eb29",
   "metadata": {
    "execution": {
     "iopub.execute_input": "2022-07-01T09:15:26.043818Z",
     "iopub.status.busy": "2022-07-01T09:15:26.043534Z",
     "iopub.status.idle": "2022-07-01T09:15:26.049534Z",
     "shell.execute_reply": "2022-07-01T09:15:26.048684Z"
    },
    "papermill": {
     "duration": 0.052602,
     "end_time": "2022-07-01T09:15:26.051538",
     "exception": false,
     "start_time": "2022-07-01T09:15:25.998936",
     "status": "completed"
    },
    "tags": []
   },
   "outputs": [
    {
     "data": {
      "text/plain": [
       "(1, 100)"
      ]
     },
     "execution_count": 36,
     "metadata": {},
     "output_type": "execute_result"
    }
   ],
   "source": [
    "x_input = test_data[979:].reshape(1,-1)\n",
    "x_input.shape\n",
    "\n"
   ]
  },
  {
   "cell_type": "code",
   "execution_count": 37,
   "id": "66ffd3be",
   "metadata": {
    "execution": {
     "iopub.execute_input": "2022-07-01T09:15:26.139832Z",
     "iopub.status.busy": "2022-07-01T09:15:26.139566Z",
     "iopub.status.idle": "2022-07-01T09:15:26.143786Z",
     "shell.execute_reply": "2022-07-01T09:15:26.142819Z"
    },
    "papermill": {
     "duration": 0.050305,
     "end_time": "2022-07-01T09:15:26.145750",
     "exception": false,
     "start_time": "2022-07-01T09:15:26.095445",
     "status": "completed"
    },
    "tags": []
   },
   "outputs": [],
   "source": [
    "temp_input=list(x_input)\n",
    "temp_input= temp_input[0].tolist()"
   ]
  },
  {
   "cell_type": "code",
   "execution_count": 38,
   "id": "2987961c",
   "metadata": {
    "execution": {
     "iopub.execute_input": "2022-07-01T09:15:26.234918Z",
     "iopub.status.busy": "2022-07-01T09:15:26.233550Z",
     "iopub.status.idle": "2022-07-01T09:15:26.241238Z",
     "shell.execute_reply": "2022-07-01T09:15:26.240230Z"
    },
    "papermill": {
     "duration": 0.054634,
     "end_time": "2022-07-01T09:15:26.243691",
     "exception": false,
     "start_time": "2022-07-01T09:15:26.189057",
     "status": "completed"
    },
    "tags": []
   },
   "outputs": [
    {
     "data": {
      "text/plain": [
       "[0.9110462955149339,\n",
       " 0.9150682888284358,\n",
       " 0.9291782573243168,\n",
       " 0.9390528541534642,\n",
       " 0.9224591448575334,\n",
       " 0.8849604774242139,\n",
       " 0.9222258120649822,\n",
       " 0.9191056252612471,\n",
       " 0.9168590739941214,\n",
       " 0.9155917994129454,\n",
       " 0.9123855905304616,\n",
       " 0.9041669606383174,\n",
       " 0.9026941050268378,\n",
       " 0.8446962756170879,\n",
       " 0.8732130139331873,\n",
       " 0.8815572394139919,\n",
       " 0.8648503431723391,\n",
       " 0.8569899709239506,\n",
       " 0.8404872303955075,\n",
       " 0.8084837472558979,\n",
       " 0.820961392310104,\n",
       " 0.8472164877663149,\n",
       " 0.8647535892942924,\n",
       " 0.8665975304033762,\n",
       " 0.8866814220522798,\n",
       " 0.8714601254337733,\n",
       " 0.8937779081803183,\n",
       " 0.9162563325476063,\n",
       " 0.9039911435826293,\n",
       " 0.9189472473794182,\n",
       " 0.9124120008177967,\n",
       " 0.9104987222241856,\n",
       " 0.9054873911628916,\n",
       " 0.9104516867600745,\n",
       " 0.9179673837981943,\n",
       " 0.9338577410291904,\n",
       " 0.9313791984444257,\n",
       " 0.9465792829908821,\n",
       " 0.9752341932229442,\n",
       " 0.9658924134605102,\n",
       " 0.9537420882848955,\n",
       " 0.9413906257146236,\n",
       " 0.9502385750249818,\n",
       " 0.9398800411212367,\n",
       " 0.9315478889146425,\n",
       " 0.9264515418807839,\n",
       " 0.9012920960591617,\n",
       " 0.8861905260765746,\n",
       " 0.8985181774671538,\n",
       " 0.917281219380573,\n",
       " 0.9019448074461585,\n",
       " 0.8886962335283126,\n",
       " 0.9053674130004263,\n",
       " 0.8938367653920936,\n",
       " 0.9088970850211289,\n",
       " 0.899019805242157,\n",
       " 0.8971979146269435,\n",
       " 0.8691459135257604,\n",
       " 0.8698584882307165,\n",
       " 0.8512570102020425,\n",
       " 0.8434248089268113,\n",
       " 0.8411535242159907,\n",
       " 0.8352196776259717,\n",
       " 0.8103630697657924,\n",
       " 0.8074292641326792,\n",
       " 0.8112974070421817,\n",
       " 0.8401579821467295,\n",
       " 0.8377983277760639,\n",
       " 0.8073994163158815,\n",
       " 0.8403280140918585,\n",
       " 0.8395170925073974,\n",
       " 0.8344516832387028,\n",
       " 0.827940750909866,\n",
       " 0.8387427261142952,\n",
       " 0.8523104872190768,\n",
       " 0.8746557702013231,\n",
       " 0.8669432955620111,\n",
       " 0.862967415448618,\n",
       " 0.8723456665602292,\n",
       " 0.8712965493366596,\n",
       " 0.8692808994388066,\n",
       " 0.857089994647096,\n",
       " 0.8524785069518375,\n",
       " 0.8616604835153485,\n",
       " 0.8398354412725131,\n",
       " 0.8085685117019163,\n",
       " 0.8052818143246967,\n",
       " 0.8020154905977073,\n",
       " 0.779573118368686,\n",
       " 0.7766676513930946,\n",
       " 0.781763495373861,\n",
       " 0.8018154431514164,\n",
       " 0.7865861815256183,\n",
       " 0.7960985801284555,\n",
       " 0.8060203801060779,\n",
       " 0.8153205741462319,\n",
       " 0.8156675969375973,\n",
       " 0.8124377445597848,\n",
       " 0.8122654488757413,\n",
       " 0.8016579036914078]"
      ]
     },
     "execution_count": 38,
     "metadata": {},
     "output_type": "execute_result"
    }
   ],
   "source": [
    "temp_input"
   ]
  },
  {
   "cell_type": "code",
   "execution_count": 39,
   "id": "f01fc00d",
   "metadata": {
    "execution": {
     "iopub.execute_input": "2022-07-01T09:15:26.332219Z",
     "iopub.status.busy": "2022-07-01T09:15:26.331403Z",
     "iopub.status.idle": "2022-07-01T09:15:27.565428Z",
     "shell.execute_reply": "2022-07-01T09:15:27.564237Z"
    },
    "papermill": {
     "duration": 1.281483,
     "end_time": "2022-07-01T09:15:27.568402",
     "exception": false,
     "start_time": "2022-07-01T09:15:26.286919",
     "status": "completed"
    },
    "tags": []
   },
   "outputs": [
    {
     "name": "stdout",
     "output_type": "stream",
     "text": [
      "[0.8223157]\n",
      "101\n",
      "1 day input [0.91506829 0.92917826 0.93905285 0.92245914 0.88496048 0.92222581\n",
      " 0.91910563 0.91685907 0.9155918  0.91238559 0.90416696 0.90269411\n",
      " 0.84469628 0.87321301 0.88155724 0.86485034 0.85698997 0.84048723\n",
      " 0.80848375 0.82096139 0.84721649 0.86475359 0.86659753 0.88668142\n",
      " 0.87146013 0.89377791 0.91625633 0.90399114 0.91894725 0.912412\n",
      " 0.91049872 0.90548739 0.91045169 0.91796738 0.93385774 0.9313792\n",
      " 0.94657928 0.97523419 0.96589241 0.95374209 0.94139063 0.95023858\n",
      " 0.93988004 0.93154789 0.92645154 0.9012921  0.88619053 0.89851818\n",
      " 0.91728122 0.90194481 0.88869623 0.90536741 0.89383677 0.90889709\n",
      " 0.89901981 0.89719791 0.86914591 0.86985849 0.85125701 0.84342481\n",
      " 0.84115352 0.83521968 0.81036307 0.80742926 0.81129741 0.84015798\n",
      " 0.83779833 0.80739942 0.84032801 0.83951709 0.83445168 0.82794075\n",
      " 0.83874273 0.85231049 0.87465577 0.8669433  0.86296742 0.87234567\n",
      " 0.87129655 0.8692809  0.85708999 0.85247851 0.86166048 0.83983544\n",
      " 0.80856851 0.80528181 0.80201549 0.77957312 0.77666765 0.7817635\n",
      " 0.80181544 0.78658618 0.79609858 0.80602038 0.81532057 0.8156676\n",
      " 0.81243774 0.81226545 0.8016579  0.82231569]\n",
      "1 day output [[0.8202739]]\n",
      "2 day input [0.92917826 0.93905285 0.92245914 0.88496048 0.92222581 0.91910563\n",
      " 0.91685907 0.9155918  0.91238559 0.90416696 0.90269411 0.84469628\n",
      " 0.87321301 0.88155724 0.86485034 0.85698997 0.84048723 0.80848375\n",
      " 0.82096139 0.84721649 0.86475359 0.86659753 0.88668142 0.87146013\n",
      " 0.89377791 0.91625633 0.90399114 0.91894725 0.912412   0.91049872\n",
      " 0.90548739 0.91045169 0.91796738 0.93385774 0.9313792  0.94657928\n",
      " 0.97523419 0.96589241 0.95374209 0.94139063 0.95023858 0.93988004\n",
      " 0.93154789 0.92645154 0.9012921  0.88619053 0.89851818 0.91728122\n",
      " 0.90194481 0.88869623 0.90536741 0.89383677 0.90889709 0.89901981\n",
      " 0.89719791 0.86914591 0.86985849 0.85125701 0.84342481 0.84115352\n",
      " 0.83521968 0.81036307 0.80742926 0.81129741 0.84015798 0.83779833\n",
      " 0.80739942 0.84032801 0.83951709 0.83445168 0.82794075 0.83874273\n",
      " 0.85231049 0.87465577 0.8669433  0.86296742 0.87234567 0.87129655\n",
      " 0.8692809  0.85708999 0.85247851 0.86166048 0.83983544 0.80856851\n",
      " 0.80528181 0.80201549 0.77957312 0.77666765 0.7817635  0.80181544\n",
      " 0.78658618 0.79609858 0.80602038 0.81532057 0.8156676  0.81243774\n",
      " 0.81226545 0.8016579  0.82231569 0.82027388]\n",
      "2 day output [[0.8184985]]\n",
      "3 day input [0.93905285 0.92245914 0.88496048 0.92222581 0.91910563 0.91685907\n",
      " 0.9155918  0.91238559 0.90416696 0.90269411 0.84469628 0.87321301\n",
      " 0.88155724 0.86485034 0.85698997 0.84048723 0.80848375 0.82096139\n",
      " 0.84721649 0.86475359 0.86659753 0.88668142 0.87146013 0.89377791\n",
      " 0.91625633 0.90399114 0.91894725 0.912412   0.91049872 0.90548739\n",
      " 0.91045169 0.91796738 0.93385774 0.9313792  0.94657928 0.97523419\n",
      " 0.96589241 0.95374209 0.94139063 0.95023858 0.93988004 0.93154789\n",
      " 0.92645154 0.9012921  0.88619053 0.89851818 0.91728122 0.90194481\n",
      " 0.88869623 0.90536741 0.89383677 0.90889709 0.89901981 0.89719791\n",
      " 0.86914591 0.86985849 0.85125701 0.84342481 0.84115352 0.83521968\n",
      " 0.81036307 0.80742926 0.81129741 0.84015798 0.83779833 0.80739942\n",
      " 0.84032801 0.83951709 0.83445168 0.82794075 0.83874273 0.85231049\n",
      " 0.87465577 0.8669433  0.86296742 0.87234567 0.87129655 0.8692809\n",
      " 0.85708999 0.85247851 0.86166048 0.83983544 0.80856851 0.80528181\n",
      " 0.80201549 0.77957312 0.77666765 0.7817635  0.80181544 0.78658618\n",
      " 0.79609858 0.80602038 0.81532057 0.8156676  0.81243774 0.81226545\n",
      " 0.8016579  0.82231569 0.82027388 0.81849849]\n",
      "3 day output [[0.8173679]]\n",
      "4 day input [0.92245914 0.88496048 0.92222581 0.91910563 0.91685907 0.9155918\n",
      " 0.91238559 0.90416696 0.90269411 0.84469628 0.87321301 0.88155724\n",
      " 0.86485034 0.85698997 0.84048723 0.80848375 0.82096139 0.84721649\n",
      " 0.86475359 0.86659753 0.88668142 0.87146013 0.89377791 0.91625633\n",
      " 0.90399114 0.91894725 0.912412   0.91049872 0.90548739 0.91045169\n",
      " 0.91796738 0.93385774 0.9313792  0.94657928 0.97523419 0.96589241\n",
      " 0.95374209 0.94139063 0.95023858 0.93988004 0.93154789 0.92645154\n",
      " 0.9012921  0.88619053 0.89851818 0.91728122 0.90194481 0.88869623\n",
      " 0.90536741 0.89383677 0.90889709 0.89901981 0.89719791 0.86914591\n",
      " 0.86985849 0.85125701 0.84342481 0.84115352 0.83521968 0.81036307\n",
      " 0.80742926 0.81129741 0.84015798 0.83779833 0.80739942 0.84032801\n",
      " 0.83951709 0.83445168 0.82794075 0.83874273 0.85231049 0.87465577\n",
      " 0.8669433  0.86296742 0.87234567 0.87129655 0.8692809  0.85708999\n",
      " 0.85247851 0.86166048 0.83983544 0.80856851 0.80528181 0.80201549\n",
      " 0.77957312 0.77666765 0.7817635  0.80181544 0.78658618 0.79609858\n",
      " 0.80602038 0.81532057 0.8156676  0.81243774 0.81226545 0.8016579\n",
      " 0.82231569 0.82027388 0.81849849 0.81736791]\n",
      "4 day output [[0.81677306]]\n",
      "5 day input [0.88496048 0.92222581 0.91910563 0.91685907 0.9155918  0.91238559\n",
      " 0.90416696 0.90269411 0.84469628 0.87321301 0.88155724 0.86485034\n",
      " 0.85698997 0.84048723 0.80848375 0.82096139 0.84721649 0.86475359\n",
      " 0.86659753 0.88668142 0.87146013 0.89377791 0.91625633 0.90399114\n",
      " 0.91894725 0.912412   0.91049872 0.90548739 0.91045169 0.91796738\n",
      " 0.93385774 0.9313792  0.94657928 0.97523419 0.96589241 0.95374209\n",
      " 0.94139063 0.95023858 0.93988004 0.93154789 0.92645154 0.9012921\n",
      " 0.88619053 0.89851818 0.91728122 0.90194481 0.88869623 0.90536741\n",
      " 0.89383677 0.90889709 0.89901981 0.89719791 0.86914591 0.86985849\n",
      " 0.85125701 0.84342481 0.84115352 0.83521968 0.81036307 0.80742926\n",
      " 0.81129741 0.84015798 0.83779833 0.80739942 0.84032801 0.83951709\n",
      " 0.83445168 0.82794075 0.83874273 0.85231049 0.87465577 0.8669433\n",
      " 0.86296742 0.87234567 0.87129655 0.8692809  0.85708999 0.85247851\n",
      " 0.86166048 0.83983544 0.80856851 0.80528181 0.80201549 0.77957312\n",
      " 0.77666765 0.7817635  0.80181544 0.78658618 0.79609858 0.80602038\n",
      " 0.81532057 0.8156676  0.81243774 0.81226545 0.8016579  0.82231569\n",
      " 0.82027388 0.81849849 0.81736791 0.81677306]\n",
      "5 day output [[0.8164487]]\n",
      "6 day input [0.92222581 0.91910563 0.91685907 0.9155918  0.91238559 0.90416696\n",
      " 0.90269411 0.84469628 0.87321301 0.88155724 0.86485034 0.85698997\n",
      " 0.84048723 0.80848375 0.82096139 0.84721649 0.86475359 0.86659753\n",
      " 0.88668142 0.87146013 0.89377791 0.91625633 0.90399114 0.91894725\n",
      " 0.912412   0.91049872 0.90548739 0.91045169 0.91796738 0.93385774\n",
      " 0.9313792  0.94657928 0.97523419 0.96589241 0.95374209 0.94139063\n",
      " 0.95023858 0.93988004 0.93154789 0.92645154 0.9012921  0.88619053\n",
      " 0.89851818 0.91728122 0.90194481 0.88869623 0.90536741 0.89383677\n",
      " 0.90889709 0.89901981 0.89719791 0.86914591 0.86985849 0.85125701\n",
      " 0.84342481 0.84115352 0.83521968 0.81036307 0.80742926 0.81129741\n",
      " 0.84015798 0.83779833 0.80739942 0.84032801 0.83951709 0.83445168\n",
      " 0.82794075 0.83874273 0.85231049 0.87465577 0.8669433  0.86296742\n",
      " 0.87234567 0.87129655 0.8692809  0.85708999 0.85247851 0.86166048\n",
      " 0.83983544 0.80856851 0.80528181 0.80201549 0.77957312 0.77666765\n",
      " 0.7817635  0.80181544 0.78658618 0.79609858 0.80602038 0.81532057\n",
      " 0.8156676  0.81243774 0.81226545 0.8016579  0.82231569 0.82027388\n",
      " 0.81849849 0.81736791 0.81677306 0.81644869]\n",
      "6 day output [[0.8161688]]\n",
      "7 day input [0.91910563 0.91685907 0.9155918  0.91238559 0.90416696 0.90269411\n",
      " 0.84469628 0.87321301 0.88155724 0.86485034 0.85698997 0.84048723\n",
      " 0.80848375 0.82096139 0.84721649 0.86475359 0.86659753 0.88668142\n",
      " 0.87146013 0.89377791 0.91625633 0.90399114 0.91894725 0.912412\n",
      " 0.91049872 0.90548739 0.91045169 0.91796738 0.93385774 0.9313792\n",
      " 0.94657928 0.97523419 0.96589241 0.95374209 0.94139063 0.95023858\n",
      " 0.93988004 0.93154789 0.92645154 0.9012921  0.88619053 0.89851818\n",
      " 0.91728122 0.90194481 0.88869623 0.90536741 0.89383677 0.90889709\n",
      " 0.89901981 0.89719791 0.86914591 0.86985849 0.85125701 0.84342481\n",
      " 0.84115352 0.83521968 0.81036307 0.80742926 0.81129741 0.84015798\n",
      " 0.83779833 0.80739942 0.84032801 0.83951709 0.83445168 0.82794075\n",
      " 0.83874273 0.85231049 0.87465577 0.8669433  0.86296742 0.87234567\n",
      " 0.87129655 0.8692809  0.85708999 0.85247851 0.86166048 0.83983544\n",
      " 0.80856851 0.80528181 0.80201549 0.77957312 0.77666765 0.7817635\n",
      " 0.80181544 0.78658618 0.79609858 0.80602038 0.81532057 0.8156676\n",
      " 0.81243774 0.81226545 0.8016579  0.82231569 0.82027388 0.81849849\n",
      " 0.81736791 0.81677306 0.81644869 0.81616879]\n",
      "7 day output [[0.8158139]]\n",
      "8 day input [0.91685907 0.9155918  0.91238559 0.90416696 0.90269411 0.84469628\n",
      " 0.87321301 0.88155724 0.86485034 0.85698997 0.84048723 0.80848375\n",
      " 0.82096139 0.84721649 0.86475359 0.86659753 0.88668142 0.87146013\n",
      " 0.89377791 0.91625633 0.90399114 0.91894725 0.912412   0.91049872\n",
      " 0.90548739 0.91045169 0.91796738 0.93385774 0.9313792  0.94657928\n",
      " 0.97523419 0.96589241 0.95374209 0.94139063 0.95023858 0.93988004\n",
      " 0.93154789 0.92645154 0.9012921  0.88619053 0.89851818 0.91728122\n",
      " 0.90194481 0.88869623 0.90536741 0.89383677 0.90889709 0.89901981\n",
      " 0.89719791 0.86914591 0.86985849 0.85125701 0.84342481 0.84115352\n",
      " 0.83521968 0.81036307 0.80742926 0.81129741 0.84015798 0.83779833\n",
      " 0.80739942 0.84032801 0.83951709 0.83445168 0.82794075 0.83874273\n",
      " 0.85231049 0.87465577 0.8669433  0.86296742 0.87234567 0.87129655\n",
      " 0.8692809  0.85708999 0.85247851 0.86166048 0.83983544 0.80856851\n",
      " 0.80528181 0.80201549 0.77957312 0.77666765 0.7817635  0.80181544\n",
      " 0.78658618 0.79609858 0.80602038 0.81532057 0.8156676  0.81243774\n",
      " 0.81226545 0.8016579  0.82231569 0.82027388 0.81849849 0.81736791\n",
      " 0.81677306 0.81644869 0.81616879 0.8158139 ]\n",
      "8 day output [[0.8153627]]\n",
      "9 day input [0.9155918  0.91238559 0.90416696 0.90269411 0.84469628 0.87321301\n",
      " 0.88155724 0.86485034 0.85698997 0.84048723 0.80848375 0.82096139\n",
      " 0.84721649 0.86475359 0.86659753 0.88668142 0.87146013 0.89377791\n",
      " 0.91625633 0.90399114 0.91894725 0.912412   0.91049872 0.90548739\n",
      " 0.91045169 0.91796738 0.93385774 0.9313792  0.94657928 0.97523419\n",
      " 0.96589241 0.95374209 0.94139063 0.95023858 0.93988004 0.93154789\n",
      " 0.92645154 0.9012921  0.88619053 0.89851818 0.91728122 0.90194481\n",
      " 0.88869623 0.90536741 0.89383677 0.90889709 0.89901981 0.89719791\n",
      " 0.86914591 0.86985849 0.85125701 0.84342481 0.84115352 0.83521968\n",
      " 0.81036307 0.80742926 0.81129741 0.84015798 0.83779833 0.80739942\n",
      " 0.84032801 0.83951709 0.83445168 0.82794075 0.83874273 0.85231049\n",
      " 0.87465577 0.8669433  0.86296742 0.87234567 0.87129655 0.8692809\n",
      " 0.85708999 0.85247851 0.86166048 0.83983544 0.80856851 0.80528181\n",
      " 0.80201549 0.77957312 0.77666765 0.7817635  0.80181544 0.78658618\n",
      " 0.79609858 0.80602038 0.81532057 0.8156676  0.81243774 0.81226545\n",
      " 0.8016579  0.82231569 0.82027388 0.81849849 0.81736791 0.81677306\n",
      " 0.81644869 0.81616879 0.8158139  0.81536269]\n",
      "9 day output [[0.8148534]]\n",
      "10 day input [0.91238559 0.90416696 0.90269411 0.84469628 0.87321301 0.88155724\n",
      " 0.86485034 0.85698997 0.84048723 0.80848375 0.82096139 0.84721649\n",
      " 0.86475359 0.86659753 0.88668142 0.87146013 0.89377791 0.91625633\n",
      " 0.90399114 0.91894725 0.912412   0.91049872 0.90548739 0.91045169\n",
      " 0.91796738 0.93385774 0.9313792  0.94657928 0.97523419 0.96589241\n",
      " 0.95374209 0.94139063 0.95023858 0.93988004 0.93154789 0.92645154\n",
      " 0.9012921  0.88619053 0.89851818 0.91728122 0.90194481 0.88869623\n",
      " 0.90536741 0.89383677 0.90889709 0.89901981 0.89719791 0.86914591\n",
      " 0.86985849 0.85125701 0.84342481 0.84115352 0.83521968 0.81036307\n",
      " 0.80742926 0.81129741 0.84015798 0.83779833 0.80739942 0.84032801\n",
      " 0.83951709 0.83445168 0.82794075 0.83874273 0.85231049 0.87465577\n",
      " 0.8669433  0.86296742 0.87234567 0.87129655 0.8692809  0.85708999\n",
      " 0.85247851 0.86166048 0.83983544 0.80856851 0.80528181 0.80201549\n",
      " 0.77957312 0.77666765 0.7817635  0.80181544 0.78658618 0.79609858\n",
      " 0.80602038 0.81532057 0.8156676  0.81243774 0.81226545 0.8016579\n",
      " 0.82231569 0.82027388 0.81849849 0.81736791 0.81677306 0.81644869\n",
      " 0.81616879 0.8158139  0.81536269 0.81485343]\n",
      "10 day output [[0.8143443]]\n",
      "11 day input [0.90416696 0.90269411 0.84469628 0.87321301 0.88155724 0.86485034\n",
      " 0.85698997 0.84048723 0.80848375 0.82096139 0.84721649 0.86475359\n",
      " 0.86659753 0.88668142 0.87146013 0.89377791 0.91625633 0.90399114\n",
      " 0.91894725 0.912412   0.91049872 0.90548739 0.91045169 0.91796738\n",
      " 0.93385774 0.9313792  0.94657928 0.97523419 0.96589241 0.95374209\n",
      " 0.94139063 0.95023858 0.93988004 0.93154789 0.92645154 0.9012921\n",
      " 0.88619053 0.89851818 0.91728122 0.90194481 0.88869623 0.90536741\n",
      " 0.89383677 0.90889709 0.89901981 0.89719791 0.86914591 0.86985849\n",
      " 0.85125701 0.84342481 0.84115352 0.83521968 0.81036307 0.80742926\n",
      " 0.81129741 0.84015798 0.83779833 0.80739942 0.84032801 0.83951709\n",
      " 0.83445168 0.82794075 0.83874273 0.85231049 0.87465577 0.8669433\n",
      " 0.86296742 0.87234567 0.87129655 0.8692809  0.85708999 0.85247851\n",
      " 0.86166048 0.83983544 0.80856851 0.80528181 0.80201549 0.77957312\n",
      " 0.77666765 0.7817635  0.80181544 0.78658618 0.79609858 0.80602038\n",
      " 0.81532057 0.8156676  0.81243774 0.81226545 0.8016579  0.82231569\n",
      " 0.82027388 0.81849849 0.81736791 0.81677306 0.81644869 0.81616879\n",
      " 0.8158139  0.81536269 0.81485343 0.81434429]\n",
      "11 day output [[0.81388736]]\n",
      "12 day input [0.90269411 0.84469628 0.87321301 0.88155724 0.86485034 0.85698997\n",
      " 0.84048723 0.80848375 0.82096139 0.84721649 0.86475359 0.86659753\n",
      " 0.88668142 0.87146013 0.89377791 0.91625633 0.90399114 0.91894725\n",
      " 0.912412   0.91049872 0.90548739 0.91045169 0.91796738 0.93385774\n",
      " 0.9313792  0.94657928 0.97523419 0.96589241 0.95374209 0.94139063\n",
      " 0.95023858 0.93988004 0.93154789 0.92645154 0.9012921  0.88619053\n",
      " 0.89851818 0.91728122 0.90194481 0.88869623 0.90536741 0.89383677\n",
      " 0.90889709 0.89901981 0.89719791 0.86914591 0.86985849 0.85125701\n",
      " 0.84342481 0.84115352 0.83521968 0.81036307 0.80742926 0.81129741\n",
      " 0.84015798 0.83779833 0.80739942 0.84032801 0.83951709 0.83445168\n",
      " 0.82794075 0.83874273 0.85231049 0.87465577 0.8669433  0.86296742\n",
      " 0.87234567 0.87129655 0.8692809  0.85708999 0.85247851 0.86166048\n",
      " 0.83983544 0.80856851 0.80528181 0.80201549 0.77957312 0.77666765\n",
      " 0.7817635  0.80181544 0.78658618 0.79609858 0.80602038 0.81532057\n",
      " 0.8156676  0.81243774 0.81226545 0.8016579  0.82231569 0.82027388\n",
      " 0.81849849 0.81736791 0.81677306 0.81644869 0.81616879 0.8158139\n",
      " 0.81536269 0.81485343 0.81434429 0.81388736]\n",
      "12 day output [[0.8135176]]\n",
      "13 day input [0.84469628 0.87321301 0.88155724 0.86485034 0.85698997 0.84048723\n",
      " 0.80848375 0.82096139 0.84721649 0.86475359 0.86659753 0.88668142\n",
      " 0.87146013 0.89377791 0.91625633 0.90399114 0.91894725 0.912412\n",
      " 0.91049872 0.90548739 0.91045169 0.91796738 0.93385774 0.9313792\n",
      " 0.94657928 0.97523419 0.96589241 0.95374209 0.94139063 0.95023858\n",
      " 0.93988004 0.93154789 0.92645154 0.9012921  0.88619053 0.89851818\n",
      " 0.91728122 0.90194481 0.88869623 0.90536741 0.89383677 0.90889709\n",
      " 0.89901981 0.89719791 0.86914591 0.86985849 0.85125701 0.84342481\n",
      " 0.84115352 0.83521968 0.81036307 0.80742926 0.81129741 0.84015798\n",
      " 0.83779833 0.80739942 0.84032801 0.83951709 0.83445168 0.82794075\n",
      " 0.83874273 0.85231049 0.87465577 0.8669433  0.86296742 0.87234567\n",
      " 0.87129655 0.8692809  0.85708999 0.85247851 0.86166048 0.83983544\n",
      " 0.80856851 0.80528181 0.80201549 0.77957312 0.77666765 0.7817635\n",
      " 0.80181544 0.78658618 0.79609858 0.80602038 0.81532057 0.8156676\n",
      " 0.81243774 0.81226545 0.8016579  0.82231569 0.82027388 0.81849849\n",
      " 0.81736791 0.81677306 0.81644869 0.81616879 0.8158139  0.81536269\n",
      " 0.81485343 0.81434429 0.81388736 0.81351757]\n",
      "13 day output [[0.81325126]]\n",
      "14 day input [0.87321301 0.88155724 0.86485034 0.85698997 0.84048723 0.80848375\n",
      " 0.82096139 0.84721649 0.86475359 0.86659753 0.88668142 0.87146013\n",
      " 0.89377791 0.91625633 0.90399114 0.91894725 0.912412   0.91049872\n",
      " 0.90548739 0.91045169 0.91796738 0.93385774 0.9313792  0.94657928\n",
      " 0.97523419 0.96589241 0.95374209 0.94139063 0.95023858 0.93988004\n",
      " 0.93154789 0.92645154 0.9012921  0.88619053 0.89851818 0.91728122\n",
      " 0.90194481 0.88869623 0.90536741 0.89383677 0.90889709 0.89901981\n",
      " 0.89719791 0.86914591 0.86985849 0.85125701 0.84342481 0.84115352\n",
      " 0.83521968 0.81036307 0.80742926 0.81129741 0.84015798 0.83779833\n",
      " 0.80739942 0.84032801 0.83951709 0.83445168 0.82794075 0.83874273\n",
      " 0.85231049 0.87465577 0.8669433  0.86296742 0.87234567 0.87129655\n",
      " 0.8692809  0.85708999 0.85247851 0.86166048 0.83983544 0.80856851\n",
      " 0.80528181 0.80201549 0.77957312 0.77666765 0.7817635  0.80181544\n",
      " 0.78658618 0.79609858 0.80602038 0.81532057 0.8156676  0.81243774\n",
      " 0.81226545 0.8016579  0.82231569 0.82027388 0.81849849 0.81736791\n",
      " 0.81677306 0.81644869 0.81616879 0.8158139  0.81536269 0.81485343\n",
      " 0.81434429 0.81388736 0.81351757 0.81325126]\n",
      "14 day output [[0.8130902]]\n",
      "15 day input [0.88155724 0.86485034 0.85698997 0.84048723 0.80848375 0.82096139\n",
      " 0.84721649 0.86475359 0.86659753 0.88668142 0.87146013 0.89377791\n",
      " 0.91625633 0.90399114 0.91894725 0.912412   0.91049872 0.90548739\n",
      " 0.91045169 0.91796738 0.93385774 0.9313792  0.94657928 0.97523419\n",
      " 0.96589241 0.95374209 0.94139063 0.95023858 0.93988004 0.93154789\n",
      " 0.92645154 0.9012921  0.88619053 0.89851818 0.91728122 0.90194481\n",
      " 0.88869623 0.90536741 0.89383677 0.90889709 0.89901981 0.89719791\n",
      " 0.86914591 0.86985849 0.85125701 0.84342481 0.84115352 0.83521968\n",
      " 0.81036307 0.80742926 0.81129741 0.84015798 0.83779833 0.80739942\n",
      " 0.84032801 0.83951709 0.83445168 0.82794075 0.83874273 0.85231049\n",
      " 0.87465577 0.8669433  0.86296742 0.87234567 0.87129655 0.8692809\n",
      " 0.85708999 0.85247851 0.86166048 0.83983544 0.80856851 0.80528181\n",
      " 0.80201549 0.77957312 0.77666765 0.7817635  0.80181544 0.78658618\n",
      " 0.79609858 0.80602038 0.81532057 0.8156676  0.81243774 0.81226545\n",
      " 0.8016579  0.82231569 0.82027388 0.81849849 0.81736791 0.81677306\n",
      " 0.81644869 0.81616879 0.8158139  0.81536269 0.81485343 0.81434429\n",
      " 0.81388736 0.81351757 0.81325126 0.81309021]\n",
      "15 day output [[0.8130264]]\n",
      "16 day input [0.86485034 0.85698997 0.84048723 0.80848375 0.82096139 0.84721649\n",
      " 0.86475359 0.86659753 0.88668142 0.87146013 0.89377791 0.91625633\n",
      " 0.90399114 0.91894725 0.912412   0.91049872 0.90548739 0.91045169\n",
      " 0.91796738 0.93385774 0.9313792  0.94657928 0.97523419 0.96589241\n",
      " 0.95374209 0.94139063 0.95023858 0.93988004 0.93154789 0.92645154\n",
      " 0.9012921  0.88619053 0.89851818 0.91728122 0.90194481 0.88869623\n",
      " 0.90536741 0.89383677 0.90889709 0.89901981 0.89719791 0.86914591\n",
      " 0.86985849 0.85125701 0.84342481 0.84115352 0.83521968 0.81036307\n",
      " 0.80742926 0.81129741 0.84015798 0.83779833 0.80739942 0.84032801\n",
      " 0.83951709 0.83445168 0.82794075 0.83874273 0.85231049 0.87465577\n",
      " 0.8669433  0.86296742 0.87234567 0.87129655 0.8692809  0.85708999\n",
      " 0.85247851 0.86166048 0.83983544 0.80856851 0.80528181 0.80201549\n",
      " 0.77957312 0.77666765 0.7817635  0.80181544 0.78658618 0.79609858\n",
      " 0.80602038 0.81532057 0.8156676  0.81243774 0.81226545 0.8016579\n",
      " 0.82231569 0.82027388 0.81849849 0.81736791 0.81677306 0.81644869\n",
      " 0.81616879 0.8158139  0.81536269 0.81485343 0.81434429 0.81388736\n",
      " 0.81351757 0.81325126 0.81309021 0.81302643]\n",
      "16 day output [[0.81304693]]\n",
      "17 day input [0.85698997 0.84048723 0.80848375 0.82096139 0.84721649 0.86475359\n",
      " 0.86659753 0.88668142 0.87146013 0.89377791 0.91625633 0.90399114\n",
      " 0.91894725 0.912412   0.91049872 0.90548739 0.91045169 0.91796738\n",
      " 0.93385774 0.9313792  0.94657928 0.97523419 0.96589241 0.95374209\n",
      " 0.94139063 0.95023858 0.93988004 0.93154789 0.92645154 0.9012921\n",
      " 0.88619053 0.89851818 0.91728122 0.90194481 0.88869623 0.90536741\n",
      " 0.89383677 0.90889709 0.89901981 0.89719791 0.86914591 0.86985849\n",
      " 0.85125701 0.84342481 0.84115352 0.83521968 0.81036307 0.80742926\n",
      " 0.81129741 0.84015798 0.83779833 0.80739942 0.84032801 0.83951709\n",
      " 0.83445168 0.82794075 0.83874273 0.85231049 0.87465577 0.8669433\n",
      " 0.86296742 0.87234567 0.87129655 0.8692809  0.85708999 0.85247851\n",
      " 0.86166048 0.83983544 0.80856851 0.80528181 0.80201549 0.77957312\n",
      " 0.77666765 0.7817635  0.80181544 0.78658618 0.79609858 0.80602038\n",
      " 0.81532057 0.8156676  0.81243774 0.81226545 0.8016579  0.82231569\n",
      " 0.82027388 0.81849849 0.81736791 0.81677306 0.81644869 0.81616879\n",
      " 0.8158139  0.81536269 0.81485343 0.81434429 0.81388736 0.81351757\n",
      " 0.81325126 0.81309021 0.81302643 0.81304693]\n",
      "17 day output [[0.8131368]]\n",
      "18 day input [0.84048723 0.80848375 0.82096139 0.84721649 0.86475359 0.86659753\n",
      " 0.88668142 0.87146013 0.89377791 0.91625633 0.90399114 0.91894725\n",
      " 0.912412   0.91049872 0.90548739 0.91045169 0.91796738 0.93385774\n",
      " 0.9313792  0.94657928 0.97523419 0.96589241 0.95374209 0.94139063\n",
      " 0.95023858 0.93988004 0.93154789 0.92645154 0.9012921  0.88619053\n",
      " 0.89851818 0.91728122 0.90194481 0.88869623 0.90536741 0.89383677\n",
      " 0.90889709 0.89901981 0.89719791 0.86914591 0.86985849 0.85125701\n",
      " 0.84342481 0.84115352 0.83521968 0.81036307 0.80742926 0.81129741\n",
      " 0.84015798 0.83779833 0.80739942 0.84032801 0.83951709 0.83445168\n",
      " 0.82794075 0.83874273 0.85231049 0.87465577 0.8669433  0.86296742\n",
      " 0.87234567 0.87129655 0.8692809  0.85708999 0.85247851 0.86166048\n",
      " 0.83983544 0.80856851 0.80528181 0.80201549 0.77957312 0.77666765\n",
      " 0.7817635  0.80181544 0.78658618 0.79609858 0.80602038 0.81532057\n",
      " 0.8156676  0.81243774 0.81226545 0.8016579  0.82231569 0.82027388\n",
      " 0.81849849 0.81736791 0.81677306 0.81644869 0.81616879 0.8158139\n",
      " 0.81536269 0.81485343 0.81434429 0.81388736 0.81351757 0.81325126\n",
      " 0.81309021 0.81302643 0.81304693 0.81313682]\n",
      "18 day output [[0.81328034]]\n",
      "19 day input [0.80848375 0.82096139 0.84721649 0.86475359 0.86659753 0.88668142\n",
      " 0.87146013 0.89377791 0.91625633 0.90399114 0.91894725 0.912412\n",
      " 0.91049872 0.90548739 0.91045169 0.91796738 0.93385774 0.9313792\n",
      " 0.94657928 0.97523419 0.96589241 0.95374209 0.94139063 0.95023858\n",
      " 0.93988004 0.93154789 0.92645154 0.9012921  0.88619053 0.89851818\n",
      " 0.91728122 0.90194481 0.88869623 0.90536741 0.89383677 0.90889709\n",
      " 0.89901981 0.89719791 0.86914591 0.86985849 0.85125701 0.84342481\n",
      " 0.84115352 0.83521968 0.81036307 0.80742926 0.81129741 0.84015798\n",
      " 0.83779833 0.80739942 0.84032801 0.83951709 0.83445168 0.82794075\n",
      " 0.83874273 0.85231049 0.87465577 0.8669433  0.86296742 0.87234567\n",
      " 0.87129655 0.8692809  0.85708999 0.85247851 0.86166048 0.83983544\n",
      " 0.80856851 0.80528181 0.80201549 0.77957312 0.77666765 0.7817635\n",
      " 0.80181544 0.78658618 0.79609858 0.80602038 0.81532057 0.8156676\n",
      " 0.81243774 0.81226545 0.8016579  0.82231569 0.82027388 0.81849849\n",
      " 0.81736791 0.81677306 0.81644869 0.81616879 0.8158139  0.81536269\n",
      " 0.81485343 0.81434429 0.81388736 0.81351757 0.81325126 0.81309021\n",
      " 0.81302643 0.81304693 0.81313682 0.81328034]\n",
      "19 day output [[0.81346273]]\n",
      "20 day input [0.82096139 0.84721649 0.86475359 0.86659753 0.88668142 0.87146013\n",
      " 0.89377791 0.91625633 0.90399114 0.91894725 0.912412   0.91049872\n",
      " 0.90548739 0.91045169 0.91796738 0.93385774 0.9313792  0.94657928\n",
      " 0.97523419 0.96589241 0.95374209 0.94139063 0.95023858 0.93988004\n",
      " 0.93154789 0.92645154 0.9012921  0.88619053 0.89851818 0.91728122\n",
      " 0.90194481 0.88869623 0.90536741 0.89383677 0.90889709 0.89901981\n",
      " 0.89719791 0.86914591 0.86985849 0.85125701 0.84342481 0.84115352\n",
      " 0.83521968 0.81036307 0.80742926 0.81129741 0.84015798 0.83779833\n",
      " 0.80739942 0.84032801 0.83951709 0.83445168 0.82794075 0.83874273\n",
      " 0.85231049 0.87465577 0.8669433  0.86296742 0.87234567 0.87129655\n",
      " 0.8692809  0.85708999 0.85247851 0.86166048 0.83983544 0.80856851\n",
      " 0.80528181 0.80201549 0.77957312 0.77666765 0.7817635  0.80181544\n",
      " 0.78658618 0.79609858 0.80602038 0.81532057 0.8156676  0.81243774\n",
      " 0.81226545 0.8016579  0.82231569 0.82027388 0.81849849 0.81736791\n",
      " 0.81677306 0.81644869 0.81616879 0.8158139  0.81536269 0.81485343\n",
      " 0.81434429 0.81388736 0.81351757 0.81325126 0.81309021 0.81302643\n",
      " 0.81304693 0.81313682 0.81328034 0.81346273]\n",
      "20 day output [[0.81367004]]\n",
      "21 day input [0.84721649 0.86475359 0.86659753 0.88668142 0.87146013 0.89377791\n",
      " 0.91625633 0.90399114 0.91894725 0.912412   0.91049872 0.90548739\n",
      " 0.91045169 0.91796738 0.93385774 0.9313792  0.94657928 0.97523419\n",
      " 0.96589241 0.95374209 0.94139063 0.95023858 0.93988004 0.93154789\n",
      " 0.92645154 0.9012921  0.88619053 0.89851818 0.91728122 0.90194481\n",
      " 0.88869623 0.90536741 0.89383677 0.90889709 0.89901981 0.89719791\n",
      " 0.86914591 0.86985849 0.85125701 0.84342481 0.84115352 0.83521968\n",
      " 0.81036307 0.80742926 0.81129741 0.84015798 0.83779833 0.80739942\n",
      " 0.84032801 0.83951709 0.83445168 0.82794075 0.83874273 0.85231049\n",
      " 0.87465577 0.8669433  0.86296742 0.87234567 0.87129655 0.8692809\n",
      " 0.85708999 0.85247851 0.86166048 0.83983544 0.80856851 0.80528181\n",
      " 0.80201549 0.77957312 0.77666765 0.7817635  0.80181544 0.78658618\n",
      " 0.79609858 0.80602038 0.81532057 0.8156676  0.81243774 0.81226545\n",
      " 0.8016579  0.82231569 0.82027388 0.81849849 0.81736791 0.81677306\n",
      " 0.81644869 0.81616879 0.8158139  0.81536269 0.81485343 0.81434429\n",
      " 0.81388736 0.81351757 0.81325126 0.81309021 0.81302643 0.81304693\n",
      " 0.81313682 0.81328034 0.81346273 0.81367004]\n",
      "21 day output [[0.8138895]]\n",
      "22 day input [0.86475359 0.86659753 0.88668142 0.87146013 0.89377791 0.91625633\n",
      " 0.90399114 0.91894725 0.912412   0.91049872 0.90548739 0.91045169\n",
      " 0.91796738 0.93385774 0.9313792  0.94657928 0.97523419 0.96589241\n",
      " 0.95374209 0.94139063 0.95023858 0.93988004 0.93154789 0.92645154\n",
      " 0.9012921  0.88619053 0.89851818 0.91728122 0.90194481 0.88869623\n",
      " 0.90536741 0.89383677 0.90889709 0.89901981 0.89719791 0.86914591\n",
      " 0.86985849 0.85125701 0.84342481 0.84115352 0.83521968 0.81036307\n",
      " 0.80742926 0.81129741 0.84015798 0.83779833 0.80739942 0.84032801\n",
      " 0.83951709 0.83445168 0.82794075 0.83874273 0.85231049 0.87465577\n",
      " 0.8669433  0.86296742 0.87234567 0.87129655 0.8692809  0.85708999\n",
      " 0.85247851 0.86166048 0.83983544 0.80856851 0.80528181 0.80201549\n",
      " 0.77957312 0.77666765 0.7817635  0.80181544 0.78658618 0.79609858\n",
      " 0.80602038 0.81532057 0.8156676  0.81243774 0.81226545 0.8016579\n",
      " 0.82231569 0.82027388 0.81849849 0.81736791 0.81677306 0.81644869\n",
      " 0.81616879 0.8158139  0.81536269 0.81485343 0.81434429 0.81388736\n",
      " 0.81351757 0.81325126 0.81309021 0.81302643 0.81304693 0.81313682\n",
      " 0.81328034 0.81346273 0.81367004 0.8138895 ]\n",
      "22 day output [[0.8141104]]\n",
      "23 day input [0.86659753 0.88668142 0.87146013 0.89377791 0.91625633 0.90399114\n",
      " 0.91894725 0.912412   0.91049872 0.90548739 0.91045169 0.91796738\n",
      " 0.93385774 0.9313792  0.94657928 0.97523419 0.96589241 0.95374209\n",
      " 0.94139063 0.95023858 0.93988004 0.93154789 0.92645154 0.9012921\n",
      " 0.88619053 0.89851818 0.91728122 0.90194481 0.88869623 0.90536741\n",
      " 0.89383677 0.90889709 0.89901981 0.89719791 0.86914591 0.86985849\n",
      " 0.85125701 0.84342481 0.84115352 0.83521968 0.81036307 0.80742926\n",
      " 0.81129741 0.84015798 0.83779833 0.80739942 0.84032801 0.83951709\n",
      " 0.83445168 0.82794075 0.83874273 0.85231049 0.87465577 0.8669433\n",
      " 0.86296742 0.87234567 0.87129655 0.8692809  0.85708999 0.85247851\n",
      " 0.86166048 0.83983544 0.80856851 0.80528181 0.80201549 0.77957312\n",
      " 0.77666765 0.7817635  0.80181544 0.78658618 0.79609858 0.80602038\n",
      " 0.81532057 0.8156676  0.81243774 0.81226545 0.8016579  0.82231569\n",
      " 0.82027388 0.81849849 0.81736791 0.81677306 0.81644869 0.81616879\n",
      " 0.8158139  0.81536269 0.81485343 0.81434429 0.81388736 0.81351757\n",
      " 0.81325126 0.81309021 0.81302643 0.81304693 0.81313682 0.81328034\n",
      " 0.81346273 0.81367004 0.8138895  0.8141104 ]\n",
      "23 day output [[0.81432366]]\n",
      "24 day input [0.88668142 0.87146013 0.89377791 0.91625633 0.90399114 0.91894725\n",
      " 0.912412   0.91049872 0.90548739 0.91045169 0.91796738 0.93385774\n",
      " 0.9313792  0.94657928 0.97523419 0.96589241 0.95374209 0.94139063\n",
      " 0.95023858 0.93988004 0.93154789 0.92645154 0.9012921  0.88619053\n",
      " 0.89851818 0.91728122 0.90194481 0.88869623 0.90536741 0.89383677\n",
      " 0.90889709 0.89901981 0.89719791 0.86914591 0.86985849 0.85125701\n",
      " 0.84342481 0.84115352 0.83521968 0.81036307 0.80742926 0.81129741\n",
      " 0.84015798 0.83779833 0.80739942 0.84032801 0.83951709 0.83445168\n",
      " 0.82794075 0.83874273 0.85231049 0.87465577 0.8669433  0.86296742\n",
      " 0.87234567 0.87129655 0.8692809  0.85708999 0.85247851 0.86166048\n",
      " 0.83983544 0.80856851 0.80528181 0.80201549 0.77957312 0.77666765\n",
      " 0.7817635  0.80181544 0.78658618 0.79609858 0.80602038 0.81532057\n",
      " 0.8156676  0.81243774 0.81226545 0.8016579  0.82231569 0.82027388\n",
      " 0.81849849 0.81736791 0.81677306 0.81644869 0.81616879 0.8158139\n",
      " 0.81536269 0.81485343 0.81434429 0.81388736 0.81351757 0.81325126\n",
      " 0.81309021 0.81302643 0.81304693 0.81313682 0.81328034 0.81346273\n",
      " 0.81367004 0.8138895  0.8141104  0.81432366]\n",
      "24 day output [[0.8145224]]\n",
      "25 day input [0.87146013 0.89377791 0.91625633 0.90399114 0.91894725 0.912412\n",
      " 0.91049872 0.90548739 0.91045169 0.91796738 0.93385774 0.9313792\n",
      " 0.94657928 0.97523419 0.96589241 0.95374209 0.94139063 0.95023858\n",
      " 0.93988004 0.93154789 0.92645154 0.9012921  0.88619053 0.89851818\n",
      " 0.91728122 0.90194481 0.88869623 0.90536741 0.89383677 0.90889709\n",
      " 0.89901981 0.89719791 0.86914591 0.86985849 0.85125701 0.84342481\n",
      " 0.84115352 0.83521968 0.81036307 0.80742926 0.81129741 0.84015798\n",
      " 0.83779833 0.80739942 0.84032801 0.83951709 0.83445168 0.82794075\n",
      " 0.83874273 0.85231049 0.87465577 0.8669433  0.86296742 0.87234567\n",
      " 0.87129655 0.8692809  0.85708999 0.85247851 0.86166048 0.83983544\n",
      " 0.80856851 0.80528181 0.80201549 0.77957312 0.77666765 0.7817635\n",
      " 0.80181544 0.78658618 0.79609858 0.80602038 0.81532057 0.8156676\n",
      " 0.81243774 0.81226545 0.8016579  0.82231569 0.82027388 0.81849849\n",
      " 0.81736791 0.81677306 0.81644869 0.81616879 0.8158139  0.81536269\n",
      " 0.81485343 0.81434429 0.81388736 0.81351757 0.81325126 0.81309021\n",
      " 0.81302643 0.81304693 0.81313682 0.81328034 0.81346273 0.81367004\n",
      " 0.8138895  0.8141104  0.81432366 0.81452239]\n",
      "25 day output [[0.8147018]]\n",
      "26 day input [0.89377791 0.91625633 0.90399114 0.91894725 0.912412   0.91049872\n",
      " 0.90548739 0.91045169 0.91796738 0.93385774 0.9313792  0.94657928\n",
      " 0.97523419 0.96589241 0.95374209 0.94139063 0.95023858 0.93988004\n",
      " 0.93154789 0.92645154 0.9012921  0.88619053 0.89851818 0.91728122\n",
      " 0.90194481 0.88869623 0.90536741 0.89383677 0.90889709 0.89901981\n",
      " 0.89719791 0.86914591 0.86985849 0.85125701 0.84342481 0.84115352\n",
      " 0.83521968 0.81036307 0.80742926 0.81129741 0.84015798 0.83779833\n",
      " 0.80739942 0.84032801 0.83951709 0.83445168 0.82794075 0.83874273\n",
      " 0.85231049 0.87465577 0.8669433  0.86296742 0.87234567 0.87129655\n",
      " 0.8692809  0.85708999 0.85247851 0.86166048 0.83983544 0.80856851\n",
      " 0.80528181 0.80201549 0.77957312 0.77666765 0.7817635  0.80181544\n",
      " 0.78658618 0.79609858 0.80602038 0.81532057 0.8156676  0.81243774\n",
      " 0.81226545 0.8016579  0.82231569 0.82027388 0.81849849 0.81736791\n",
      " 0.81677306 0.81644869 0.81616879 0.8158139  0.81536269 0.81485343\n",
      " 0.81434429 0.81388736 0.81351757 0.81325126 0.81309021 0.81302643\n",
      " 0.81304693 0.81313682 0.81328034 0.81346273 0.81367004 0.8138895\n",
      " 0.8141104  0.81432366 0.81452239 0.8147018 ]\n",
      "26 day output [[0.8148583]]\n",
      "27 day input [0.91625633 0.90399114 0.91894725 0.912412   0.91049872 0.90548739\n",
      " 0.91045169 0.91796738 0.93385774 0.9313792  0.94657928 0.97523419\n",
      " 0.96589241 0.95374209 0.94139063 0.95023858 0.93988004 0.93154789\n",
      " 0.92645154 0.9012921  0.88619053 0.89851818 0.91728122 0.90194481\n",
      " 0.88869623 0.90536741 0.89383677 0.90889709 0.89901981 0.89719791\n",
      " 0.86914591 0.86985849 0.85125701 0.84342481 0.84115352 0.83521968\n",
      " 0.81036307 0.80742926 0.81129741 0.84015798 0.83779833 0.80739942\n",
      " 0.84032801 0.83951709 0.83445168 0.82794075 0.83874273 0.85231049\n",
      " 0.87465577 0.8669433  0.86296742 0.87234567 0.87129655 0.8692809\n",
      " 0.85708999 0.85247851 0.86166048 0.83983544 0.80856851 0.80528181\n",
      " 0.80201549 0.77957312 0.77666765 0.7817635  0.80181544 0.78658618\n",
      " 0.79609858 0.80602038 0.81532057 0.8156676  0.81243774 0.81226545\n",
      " 0.8016579  0.82231569 0.82027388 0.81849849 0.81736791 0.81677306\n",
      " 0.81644869 0.81616879 0.8158139  0.81536269 0.81485343 0.81434429\n",
      " 0.81388736 0.81351757 0.81325126 0.81309021 0.81302643 0.81304693\n",
      " 0.81313682 0.81328034 0.81346273 0.81367004 0.8138895  0.8141104\n",
      " 0.81432366 0.81452239 0.8147018  0.81485832]\n",
      "27 day output [[0.8149916]]\n",
      "28 day input [0.90399114 0.91894725 0.912412   0.91049872 0.90548739 0.91045169\n",
      " 0.91796738 0.93385774 0.9313792  0.94657928 0.97523419 0.96589241\n",
      " 0.95374209 0.94139063 0.95023858 0.93988004 0.93154789 0.92645154\n",
      " 0.9012921  0.88619053 0.89851818 0.91728122 0.90194481 0.88869623\n",
      " 0.90536741 0.89383677 0.90889709 0.89901981 0.89719791 0.86914591\n",
      " 0.86985849 0.85125701 0.84342481 0.84115352 0.83521968 0.81036307\n",
      " 0.80742926 0.81129741 0.84015798 0.83779833 0.80739942 0.84032801\n",
      " 0.83951709 0.83445168 0.82794075 0.83874273 0.85231049 0.87465577\n",
      " 0.8669433  0.86296742 0.87234567 0.87129655 0.8692809  0.85708999\n",
      " 0.85247851 0.86166048 0.83983544 0.80856851 0.80528181 0.80201549\n",
      " 0.77957312 0.77666765 0.7817635  0.80181544 0.78658618 0.79609858\n",
      " 0.80602038 0.81532057 0.8156676  0.81243774 0.81226545 0.8016579\n",
      " 0.82231569 0.82027388 0.81849849 0.81736791 0.81677306 0.81644869\n",
      " 0.81616879 0.8158139  0.81536269 0.81485343 0.81434429 0.81388736\n",
      " 0.81351757 0.81325126 0.81309021 0.81302643 0.81304693 0.81313682\n",
      " 0.81328034 0.81346273 0.81367004 0.8138895  0.8141104  0.81432366\n",
      " 0.81452239 0.8147018  0.81485832 0.81499159]\n",
      "28 day output [[0.8151014]]\n",
      "29 day input [0.91894725 0.912412   0.91049872 0.90548739 0.91045169 0.91796738\n",
      " 0.93385774 0.9313792  0.94657928 0.97523419 0.96589241 0.95374209\n",
      " 0.94139063 0.95023858 0.93988004 0.93154789 0.92645154 0.9012921\n",
      " 0.88619053 0.89851818 0.91728122 0.90194481 0.88869623 0.90536741\n",
      " 0.89383677 0.90889709 0.89901981 0.89719791 0.86914591 0.86985849\n",
      " 0.85125701 0.84342481 0.84115352 0.83521968 0.81036307 0.80742926\n",
      " 0.81129741 0.84015798 0.83779833 0.80739942 0.84032801 0.83951709\n",
      " 0.83445168 0.82794075 0.83874273 0.85231049 0.87465577 0.8669433\n",
      " 0.86296742 0.87234567 0.87129655 0.8692809  0.85708999 0.85247851\n",
      " 0.86166048 0.83983544 0.80856851 0.80528181 0.80201549 0.77957312\n",
      " 0.77666765 0.7817635  0.80181544 0.78658618 0.79609858 0.80602038\n",
      " 0.81532057 0.8156676  0.81243774 0.81226545 0.8016579  0.82231569\n",
      " 0.82027388 0.81849849 0.81736791 0.81677306 0.81644869 0.81616879\n",
      " 0.8158139  0.81536269 0.81485343 0.81434429 0.81388736 0.81351757\n",
      " 0.81325126 0.81309021 0.81302643 0.81304693 0.81313682 0.81328034\n",
      " 0.81346273 0.81367004 0.8138895  0.8141104  0.81432366 0.81452239\n",
      " 0.8147018  0.81485832 0.81499159 0.81510139]\n",
      "29 day output [[0.8151895]]\n",
      "[[0.8223156929016113], [0.8202738761901855], [0.8184984922409058], [0.8173679113388062], [0.8167730569839478], [0.8164486885070801], [0.8161687850952148], [0.8158138990402222], [0.8153626918792725], [0.8148534297943115], [0.8143442869186401], [0.813887357711792], [0.8135175704956055], [0.813251256942749], [0.8130902051925659], [0.8130264282226562], [0.813046932220459], [0.8131368160247803], [0.8132803440093994], [0.8134627342224121], [0.8136700391769409], [0.8138895034790039], [0.8141103982925415], [0.8143236637115479], [0.814522385597229], [0.8147017955780029], [0.8148583173751831], [0.8149915933609009], [0.8151013851165771], [0.8151894807815552]]\n"
     ]
    }
   ],
   "source": [
    "lst_output=[]\n",
    "n_steps=100\n",
    "nextNumberOfDays = 30\n",
    "i=0\n",
    "\n",
    "while(i<nextNumberOfDays):\n",
    "    \n",
    "    if(len(temp_input)>100):\n",
    "        x_input=np.array(temp_input[1:])\n",
    "        print(\"{} day input {}\".format(i,x_input))\n",
    "        x_input=x_input.reshape(1,-1)\n",
    "        x_input = x_input.reshape((1, n_steps, 1))\n",
    "        yhat = model.predict(x_input, verbose=0)\n",
    "        print(\"{} day output {}\".format(i,yhat))\n",
    "        temp_input.extend(yhat[0].tolist())\n",
    "        temp_input=temp_input[1:]\n",
    "        lst_output.extend(yhat.tolist())\n",
    "        i=i+1\n",
    "    else:\n",
    "        x_input = x_input.reshape((1, n_steps,1))\n",
    "        yhat = model.predict(x_input, verbose=0)\n",
    "        print(yhat[0])\n",
    "        temp_input.extend(yhat[0].tolist())\n",
    "        print(len(temp_input))\n",
    "        lst_output.extend(yhat.tolist())\n",
    "        i=i+1\n",
    "    \n",
    "\n",
    "print(lst_output)"
   ]
  },
  {
   "cell_type": "code",
   "execution_count": 40,
   "id": "0db092b6",
   "metadata": {
    "execution": {
     "iopub.execute_input": "2022-07-01T09:15:27.660768Z",
     "iopub.status.busy": "2022-07-01T09:15:27.659877Z",
     "iopub.status.idle": "2022-07-01T09:15:27.668021Z",
     "shell.execute_reply": "2022-07-01T09:15:27.667082Z"
    },
    "papermill": {
     "duration": 0.056323,
     "end_time": "2022-07-01T09:15:27.670335",
     "exception": false,
     "start_time": "2022-07-01T09:15:27.614012",
     "status": "completed"
    },
    "tags": []
   },
   "outputs": [
    {
     "data": {
      "text/plain": [
       "3082"
      ]
     },
     "execution_count": 40,
     "metadata": {},
     "output_type": "execute_result"
    }
   ],
   "source": [
    "len(df1)"
   ]
  },
  {
   "cell_type": "code",
   "execution_count": 41,
   "id": "a3507905",
   "metadata": {
    "execution": {
     "iopub.execute_input": "2022-07-01T09:15:27.764546Z",
     "iopub.status.busy": "2022-07-01T09:15:27.763795Z",
     "iopub.status.idle": "2022-07-01T09:15:27.769338Z",
     "shell.execute_reply": "2022-07-01T09:15:27.768514Z"
    },
    "papermill": {
     "duration": 0.055506,
     "end_time": "2022-07-01T09:15:27.771625",
     "exception": false,
     "start_time": "2022-07-01T09:15:27.716119",
     "status": "completed"
    },
    "tags": []
   },
   "outputs": [],
   "source": [
    "day_new = np.arange(1,101)\n",
    "day_pred = np.arange(101,131)"
   ]
  },
  {
   "cell_type": "code",
   "execution_count": 42,
   "id": "bef4e067",
   "metadata": {
    "execution": {
     "iopub.execute_input": "2022-07-01T09:15:27.865712Z",
     "iopub.status.busy": "2022-07-01T09:15:27.865317Z",
     "iopub.status.idle": "2022-07-01T09:15:27.879532Z",
     "shell.execute_reply": "2022-07-01T09:15:27.878707Z"
    },
    "papermill": {
     "duration": 0.063873,
     "end_time": "2022-07-01T09:15:27.881639",
     "exception": false,
     "start_time": "2022-07-01T09:15:27.817766",
     "status": "completed"
    },
    "tags": []
   },
   "outputs": [],
   "source": [
    "df3 = df1.tolist()\n",
    "df3.extend(lst_output)\n"
   ]
  },
  {
   "cell_type": "code",
   "execution_count": 43,
   "id": "bd5a3848",
   "metadata": {
    "execution": {
     "iopub.execute_input": "2022-07-01T09:15:27.973329Z",
     "iopub.status.busy": "2022-07-01T09:15:27.972996Z",
     "iopub.status.idle": "2022-07-01T09:15:27.979731Z",
     "shell.execute_reply": "2022-07-01T09:15:27.978728Z"
    },
    "papermill": {
     "duration": 0.055804,
     "end_time": "2022-07-01T09:15:27.982509",
     "exception": false,
     "start_time": "2022-07-01T09:15:27.926705",
     "status": "completed"
    },
    "tags": []
   },
   "outputs": [
    {
     "data": {
      "text/plain": [
       "3082"
      ]
     },
     "execution_count": 43,
     "metadata": {},
     "output_type": "execute_result"
    }
   ],
   "source": [
    "len(df1)\n"
   ]
  },
  {
   "cell_type": "code",
   "execution_count": 44,
   "id": "4da64b35",
   "metadata": {
    "execution": {
     "iopub.execute_input": "2022-07-01T09:15:28.074509Z",
     "iopub.status.busy": "2022-07-01T09:15:28.074236Z",
     "iopub.status.idle": "2022-07-01T09:15:28.243704Z",
     "shell.execute_reply": "2022-07-01T09:15:28.242818Z"
    },
    "papermill": {
     "duration": 0.217713,
     "end_time": "2022-07-01T09:15:28.245886",
     "exception": false,
     "start_time": "2022-07-01T09:15:28.028173",
     "status": "completed"
    },
    "tags": []
   },
   "outputs": [
    {
     "data": {
      "text/plain": [
       "[<matplotlib.lines.Line2D at 0x7fbebd036b90>]"
      ]
     },
     "execution_count": 44,
     "metadata": {},
     "output_type": "execute_result"
    },
    {
     "data": {
      "image/png": "[encoded data removed]",
      "text/plain": [
       "<Figure size 432x288 with 1 Axes>"
      ]
     },
     "metadata": {
      "needs_background": "light"
     },
     "output_type": "display_data"
    }
   ],
   "source": [
    "plt.plot(day_new, scaler.inverse_transform(df1[2982:]))\n",
    "plt.plot(day_pred, scaler.inverse_transform(lst_output))"
   ]
  },
  {
   "cell_type": "code",
   "execution_count": 45,
   "id": "fdd106c0",
   "metadata": {
    "execution": {
     "iopub.execute_input": "2022-07-01T09:15:28.337883Z",
     "iopub.status.busy": "2022-07-01T09:15:28.337601Z",
     "iopub.status.idle": "2022-07-01T09:15:28.506268Z",
     "shell.execute_reply": "2022-07-01T09:15:28.505415Z"
    },
    "papermill": {
     "duration": 0.216855,
     "end_time": "2022-07-01T09:15:28.508330",
     "exception": false,
     "start_time": "2022-07-01T09:15:28.291475",
     "status": "completed"
    },
    "tags": []
   },
   "outputs": [
    {
     "data": {
      "text/plain": [
       "[<matplotlib.lines.Line2D at 0x7fbebcffc7d0>]"
      ]
     },
     "execution_count": 45,
     "metadata": {},
     "output_type": "execute_result"
    },
    {
     "data": {
      "image/png": "[encoded data removed]",
      "text/plain": [
       "<Figure size 432x288 with 1 Axes>"
      ]
     },
     "metadata": {
      "needs_background": "light"
     },
     "output_type": "display_data"
    }
   ],
   "source": [
    "plt.plot(day_pred, scaler.inverse_transform(lst_output))"
   ]
  },
  {
   "cell_type": "code",
   "execution_count": null,
   "id": "92a25db6",
   "metadata": {
    "papermill": {
     "duration": 0.045571,
     "end_time": "2022-07-01T09:15:28.601751",
     "exception": false,
     "start_time": "2022-07-01T09:15:28.556180",
     "status": "completed"
    },
    "tags": []
   },
   "outputs": [],
   "source": []
  },
  {
   "cell_type": "code",
   "execution_count": null,
   "id": "b750f16b",
   "metadata": {
    "papermill": {
     "duration": 0.045384,
     "end_time": "2022-07-01T09:15:28.693162",
     "exception": false,
     "start_time": "2022-07-01T09:15:28.647778",
     "status": "completed"
    },
    "tags": []
   },
   "outputs": [],
   "source": []
  }
 ],
 "metadata": {
  "kernelspec": {
   "display_name": "Python 3",
   "language": "python",
   "name": "python3"
  },
  "language_info": {
   "codemirror_mode": {
    "name": "ipython",
    "version": 3
   },
   "file_extension": ".py",
   "mimetype": "text/x-python",
   "name": "python",
   "nbconvert_exporter": "python",
   "pygments_lexer": "ipython3",
   "version": "3.7.12"
  },
  "papermill": {
   "default_parameters": {},
   "duration": 64.301539,
   "end_time": "2022-07-01T09:15:31.717368",
   "environment_variables": {},
   "exception": null,
   "input_path": "__notebook__.ipynb",
   "output_path": "__notebook__.ipynb",
   "parameters": {},
   "start_time": "2022-07-01T09:14:27.415829",
   "version": "2.3.4"
  }
 },
 "nbformat": 4,
 "nbformat_minor": 5
}
